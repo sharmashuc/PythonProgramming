{
 "cells": [
  {
   "cell_type": "code",
   "execution_count": 1,
   "id": "fa20f0e5-f46b-43cf-a858-7af870a746b5",
   "metadata": {},
   "outputs": [],
   "source": [
    "def msg():\n",
    "    print(\"hello\")"
   ]
  },
  {
   "cell_type": "code",
   "execution_count": 2,
   "id": "b3b38925-8f5c-4d52-abb2-500a094145a6",
   "metadata": {},
   "outputs": [
    {
     "name": "stdout",
     "output_type": "stream",
     "text": [
      "hello\n"
     ]
    }
   ],
   "source": [
    "#function calling\n",
    "msg()"
   ]
  },
  {
   "cell_type": "code",
   "execution_count": 4,
   "id": "4475f3b6-1c07-4e57-943b-cf35ef503af7",
   "metadata": {},
   "outputs": [
    {
     "name": "stdout",
     "output_type": "stream",
     "text": [
      "0\n",
      "1\n",
      "2\n",
      "3\n",
      "4\n",
      "5\n",
      "6\n",
      "7\n",
      "8\n",
      "9\n"
     ]
    }
   ],
   "source": [
    "def msg (x):\n",
    "    for i in range (0,x):\n",
    "        print(i)\n",
    "msg(10)        "
   ]
  },
  {
   "cell_type": "code",
   "execution_count": 5,
   "id": "b39531ae-1b34-467c-bda4-62b50b1203e4",
   "metadata": {},
   "outputs": [
    {
     "name": "stdin",
     "output_type": "stream",
     "text": [
      "Enter a number:  18\n"
     ]
    },
    {
     "name": "stdout",
     "output_type": "stream",
     "text": [
      "18 is even.\n"
     ]
    }
   ],
   "source": [
    "def check_even_odd():\n",
    "    num = int(input(\"Enter a number: \"))\n",
    "    if num % 2 == 0:\n",
    "        print(f\"{num} is even.\")\n",
    "    else:\n",
    "        print(f\"{num} is odd.\")\n",
    "\n",
    "check_even_odd()\n"
   ]
  },
  {
   "cell_type": "code",
   "execution_count": 9,
   "id": "4c5b3712-bb3a-4a00-b282-3c52b5bc8ee2",
   "metadata": {},
   "outputs": [],
   "source": [
    "def msg(x):\n",
    "    print(20)   "
   ]
  },
  {
   "cell_type": "code",
   "execution_count": 12,
   "id": "91215bbb-c952-49f2-8452-59d2ee9ff30e",
   "metadata": {},
   "outputs": [],
   "source": [
    "#5\n",
    "def fuc(x,y):\n",
    "    if(x%5==0 and y%5==0):\n",
    "        print(\"divisible by 5\")\n",
    "    else:\n",
    "        print(\"not divisible\")"
   ]
  },
  {
   "cell_type": "code",
   "execution_count": 13,
   "id": "8b2f6a1e-dad6-4bad-b7a5-73fa3428722f",
   "metadata": {},
   "outputs": [
    {
     "name": "stdout",
     "output_type": "stream",
     "text": [
      "not divisible\n"
     ]
    }
   ],
   "source": [
    "fuc(10,21)"
   ]
  },
  {
   "cell_type": "code",
   "execution_count": 14,
   "id": "0aa121d8-6cd6-4d75-a5f8-8d3d0faffe54",
   "metadata": {},
   "outputs": [
    {
     "name": "stdout",
     "output_type": "stream",
     "text": [
      "divisible by 5\n"
     ]
    }
   ],
   "source": [
    "fuc(5,10)"
   ]
  },
  {
   "cell_type": "code",
   "execution_count": 24,
   "id": "3b392d0d-4948-48aa-968a-8851ac5b4183",
   "metadata": {},
   "outputs": [
    {
     "name": "stdout",
     "output_type": "stream",
     "text": [
      "prime\n"
     ]
    }
   ],
   "source": [
    "def func(num):\n",
    "    x=0\n",
    "    if (num>1):\n",
    "       for i in range(2,num):\n",
    "           if(num%i==0):\n",
    "               x=1\n",
    "               break\n",
    "       if(x==1):\n",
    "           print(\"not a prime\")\n",
    "       else:\n",
    "           print(\"prime\")\n",
    "func(2)           "
   ]
  },
  {
   "cell_type": "code",
   "execution_count": 49,
   "id": "98dbf3d5-98c8-4e6e-8ef6-757b90de84eb",
   "metadata": {},
   "outputs": [
    {
     "name": "stdout",
     "output_type": "stream",
     "text": [
      "J K  * \n",
      "L  * \n"
     ]
    }
   ],
   "source": [
    "def func(x):\n",
    "    x=68\n",
    "for i in range(1,x+1):\n",
    "    for j in range(i,x+1):\n",
    "        print(chr(count),end=\" \")\n",
    "        count+=1\n",
    "    print(\" * \")  \n",
    "func(6)"
   ]
  },
  {
   "cell_type": "code",
   "execution_count": 38,
   "id": "39d69769-07b7-41c3-8521-432afaeaacd7",
   "metadata": {},
   "outputs": [
    {
     "name": "stdout",
     "output_type": "stream",
     "text": [
      "D E F  \n",
      "G H  \n",
      "I  \n"
     ]
    }
   ],
   "source": [
    "count=68\n",
    "for i in range(1,4):\n",
    "    for j in range(i,4):\n",
    "        print(chr(count),end=\" \")\n",
    "        count+=1\n",
    "    print(\" \")    "
   ]
  },
  {
   "cell_type": "code",
   "execution_count": 48,
   "id": "9a92edc0-048b-4d90-9f8e-1f8abb159d1a",
   "metadata": {},
   "outputs": [
    {
     "name": "stdout",
     "output_type": "stream",
     "text": [
      "lcm is  84\n"
     ]
    }
   ],
   "source": [
    "def lcm(x,y):\n",
    "    if(x>y):\n",
    "         greatest=x\n",
    "    else:\n",
    "         greatest=y\n",
    "    while(True):\n",
    "        if(greatest%x==0 and greatest%y==0):\n",
    "            print(\"lcm is \",greatest)\n",
    "            break\n",
    "        greatest+=1\n",
    "    \n",
    "lcm(12,14)    "
   ]
  },
  {
   "cell_type": "code",
   "execution_count": null,
   "id": "76f90b44-f39f-4a63-b93e-c30ec7a82278",
   "metadata": {},
   "outputs": [],
   "source": [
    "\n"
   ]
  },
  {
   "cell_type": "code",
   "execution_count": null,
   "id": "9ec15f5b-01c6-40d9-bb3e-5ca9b4741851",
   "metadata": {},
   "outputs": [],
   "source": []
  }
 ],
 "metadata": {
  "kernelspec": {
   "display_name": "Python 3 (ipykernel)",
   "language": "python",
   "name": "python3"
  },
  "language_info": {
   "codemirror_mode": {
    "name": "ipython",
    "version": 3
   },
   "file_extension": ".py",
   "mimetype": "text/x-python",
   "name": "python",
   "nbconvert_exporter": "python",
   "pygments_lexer": "ipython3",
   "version": "3.11.7"
  }
 },
 "nbformat": 4,
 "nbformat_minor": 5
}
