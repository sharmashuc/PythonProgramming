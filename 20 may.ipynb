{
 "cells": [
  {
   "cell_type": "code",
   "execution_count": 1,
   "id": "e9778d9a-617d-4bb7-a3bc-f25ed8f16e41",
   "metadata": {},
   "outputs": [
    {
     "name": "stdout",
     "output_type": "stream",
     "text": [
      "before swap 10 20\n",
      "swap number: 10 20\n"
     ]
    }
   ],
   "source": [
    "def swapnumber(x,y):\n",
    "    print(\"before swap\",x,y)\n",
    "    x,y=y,x\n",
    "x=10\n",
    "y=20\n",
    "swapnumber(10,20)\n",
    "print(\"swap number:\",x,y)"
   ]
  },
  {
   "cell_type": "code",
   "execution_count": 2,
   "id": "b067b730-5b30-4bca-b397-ed05aad03556",
   "metadata": {},
   "outputs": [
    {
     "name": "stdout",
     "output_type": "stream",
     "text": [
      "value of x is 20\n"
     ]
    }
   ],
   "source": [
    "def funct(x):\n",
    "    print(\"value of x is\",x)\n",
    "num=20\n",
    "funct(num)"
   ]
  },
  {
   "cell_type": "code",
   "execution_count": 3,
   "id": "a541f9e9-ec0f-42f7-a76d-f076fb1d0f6d",
   "metadata": {},
   "outputs": [
    {
     "name": "stdout",
     "output_type": "stream",
     "text": [
      "{'username': 'naina'} <class 'dict'>\n",
      "{'salary': 1000, 'website': 'www.regexsoftware.com'} <class 'dict'>\n"
     ]
    }
   ],
   "source": [
    "def facebook(**data):\n",
    "    print(data,type(data))\n",
    "facebook(username=\"naina\")\n",
    "facebook(salary=1000,website=\"www.regexsoftware.com\")"
   ]
  },
  {
   "cell_type": "code",
   "execution_count": 1,
   "id": "7403514b-b004-49c1-ba33-827a527beceb",
   "metadata": {},
   "outputs": [
    {
     "name": "stdout",
     "output_type": "stream",
     "text": [
      "hey\n"
     ]
    }
   ],
   "source": [
    "def funct():\n",
    "    print(\"hey\")\n",
    "funct()    "
   ]
  },
  {
   "cell_type": "code",
   "execution_count": 3,
   "id": "1a2b88bd-a6eb-4718-b4a8-847e507a8691",
   "metadata": {},
   "outputs": [
    {
     "name": "stdout",
     "output_type": "stream",
     "text": [
      "hey\n",
      "hey\n",
      "hey\n"
     ]
    }
   ],
   "source": [
    "for i in range(1,4):\n",
    "    funct()    "
   ]
  },
  {
   "cell_type": "code",
   "execution_count": 11,
   "id": "da4943a0-8edc-46d8-89d8-1778bab6028a",
   "metadata": {},
   "outputs": [
    {
     "name": "stdout",
     "output_type": "stream",
     "text": [
      "hello user aman\n"
     ]
    }
   ],
   "source": [
    "def msg(aman):\n",
    "    print(\"hello user\",aman)\n",
    "user=\"aman\"\n",
    "msg(user)"
   ]
  },
  {
   "cell_type": "code",
   "execution_count": 12,
   "id": "8c8ed9e0-0730-4342-b69e-bd3bbc7e2840",
   "metadata": {},
   "outputs": [
    {
     "name": "stdout",
     "output_type": "stream",
     "text": [
      "20 10\n"
     ]
    }
   ],
   "source": [
    "x=10\n",
    "y=20\n",
    "x,y=y,x\n",
    "print(x,y)"
   ]
  },
  {
   "cell_type": "code",
   "execution_count": null,
   "id": "0578408d-04f4-452d-ba00-89fa1b2747c0",
   "metadata": {},
   "outputs": [],
   "source": []
  }
 ],
 "metadata": {
  "kernelspec": {
   "display_name": "Python 3 (ipykernel)",
   "language": "python",
   "name": "python3"
  },
  "language_info": {
   "codemirror_mode": {
    "name": "ipython",
    "version": 3
   },
   "file_extension": ".py",
   "mimetype": "text/x-python",
   "name": "python",
   "nbconvert_exporter": "python",
   "pygments_lexer": "ipython3",
   "version": "3.11.7"
  }
 },
 "nbformat": 4,
 "nbformat_minor": 5
}
