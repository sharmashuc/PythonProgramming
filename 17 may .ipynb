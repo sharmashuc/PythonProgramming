{
 "cells": [
  {
   "cell_type": "code",
   "execution_count": 10,
   "id": "c4e721a9-5003-4338-bdfb-63e32855bfd4",
   "metadata": {},
   "outputs": [
    {
     "name": "stdout",
     "output_type": "stream",
     "text": [
      "0\n",
      "1\n",
      "2\n",
      "3\n",
      "4\n",
      "5\n",
      "6\n",
      "7\n",
      "8\n",
      "9\n"
     ]
    }
   ],
   "source": [
    "i=0\n",
    "while(i<10):\n",
    "    print(i)\n",
    "    i+=1"
   ]
  },
  {
   "cell_type": "code",
   "execution_count": 6,
   "id": "a0ec9d14-48e3-4ff0-a981-0047411aaf30",
   "metadata": {},
   "outputs": [
    {
     "name": "stdout",
     "output_type": "stream",
     "text": [
      "0\n",
      "1\n",
      "2\n",
      "3\n",
      "4\n",
      "5\n",
      "6\n",
      "7\n",
      "8\n",
      "9\n",
      "10\n"
     ]
    }
   ],
   "source": [
    "i=0\n",
    "while(i<11):\n",
    "    print(i)\n",
    "    i+=1\n",
    "    "
   ]
  },
  {
   "cell_type": "code",
   "execution_count": 8,
   "id": "a5b00ce8-d1b9-4ae6-ae2f-c8ea9d754c5e",
   "metadata": {},
   "outputs": [
    {
     "name": "stdout",
     "output_type": "stream",
     "text": [
      "5\n"
     ]
    }
   ],
   "source": [
    "i=5\n",
    "while(i<25):\n",
    "    print(i)\n",
    "    i+=5\n",
    "    break"
   ]
  },
  {
   "cell_type": "code",
   "execution_count": 16,
   "id": "c3deb979-f786-449b-a9e4-34c949037c21",
   "metadata": {},
   "outputs": [
    {
     "name": "stdout",
     "output_type": "stream",
     "text": [
      "{'tushar', 'aman', 'naina', 'hello', 'hey'}\n"
     ]
    }
   ],
   "source": [
    "m=\"hey tushar hello aman hey naina tushar\"\n",
    "myset=m.split()\n",
    "sum=set(myset)\n",
    "print (sum)\n"
   ]
  },
  {
   "cell_type": "code",
   "execution_count": 18,
   "id": "097a549b-5405-4bf0-a305-ea94fed861b2",
   "metadata": {},
   "outputs": [
    {
     "name": "stdout",
     "output_type": "stream",
     "text": [
      "{'hey': 2, 'tushar': 2, 'hello': 1, 'aman': 1, 'naina': 1}\n"
     ]
    }
   ],
   "source": [
    "m=\"hey tushar hello aman hey naina tushar\"\n",
    "myset=m.split()\n",
    "sum={}\n",
    "for i in myset:\n",
    "    if i in sum:\n",
    "        sum[i] = sum[i]+1\n",
    "    else: \n",
    "        sum [i] =1\n",
    "print(sum)"
   ]
  },
  {
   "cell_type": "code",
   "execution_count": null,
   "id": "d9e75259-7c8a-4c35-960d-26ca35b04ad3",
   "metadata": {},
   "outputs": [],
   "source": []
  }
 ],
 "metadata": {
  "kernelspec": {
   "display_name": "Python 3 (ipykernel)",
   "language": "python",
   "name": "python3"
  },
  "language_info": {
   "codemirror_mode": {
    "name": "ipython",
    "version": 3
   },
   "file_extension": ".py",
   "mimetype": "text/x-python",
   "name": "python",
   "nbconvert_exporter": "python",
   "pygments_lexer": "ipython3",
   "version": "3.11.7"
  }
 },
 "nbformat": 4,
 "nbformat_minor": 5
}
