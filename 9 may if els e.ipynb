{
 "cells": [
  {
   "cell_type": "code",
   "execution_count": 1,
   "id": "3a1f0dc7-9df9-41e1-9cc8-1b46843bd386",
   "metadata": {},
   "outputs": [
    {
     "name": "stdout",
     "output_type": "stream",
     "text": [
      "age is not valid\n"
     ]
    }
   ],
   "source": [
    "x=30\n",
    "y=18\n",
    "if(x>10 and y>18):\n",
    "    print(\"age is valid\")\n",
    "else:\n",
    "    print(\"age is not valid\")\n"
   ]
  },
  {
   "cell_type": "code",
   "execution_count": 2,
   "id": "e8f5f105-5c58-40c1-b926-881052314855",
   "metadata": {},
   "outputs": [
    {
     "name": "stdout",
     "output_type": "stream",
     "text": [
      "x is minimum\n"
     ]
    }
   ],
   "source": [
    "x=12\n",
    "y=15\n",
    "z=20\n",
    "if(x<=y and y<=z):\n",
    "     print(\"x is minimum\")\n",
    "elif (y<=x and z<=y):\n",
    "    print(\"y is minimum\")\n",
    "elif (z<=x and x<=z):\n",
    "    print(\"z is minimum\")    "
   ]
  },
  {
   "cell_type": "code",
   "execution_count": 6,
   "id": "c9035186-a577-4b8b-bb5b-9e603db27385",
   "metadata": {},
   "outputs": [
    {
     "name": "stdout",
     "output_type": "stream",
     "text": [
      "good\n"
     ]
    }
   ],
   "source": [
    "x=76\n",
    "if(x>=60 and x<75):\n",
    "    print(\"average\")\n",
    "elif(x>=75 and x<85):\n",
    "     print(\"good\")\n",
    "elif(x>=85 and x<95):\n",
    "    print(\"excellent\")\n",
    "elif(x>=95 and x<100):\n",
    "    print(\"brilliant\")\n",
    "else:\n",
    "    print(\"fail\")"
   ]
  },
  {
   "cell_type": "code",
   "execution_count": 8,
   "id": "09c54826-7426-4eef-99b0-16655739164c",
   "metadata": {},
   "outputs": [
    {
     "name": "stdout",
     "output_type": "stream",
     "text": [
      "x is divisble by 6\n"
     ]
    }
   ],
   "source": [
    "x=70\n",
    "if(x%2==0 or x%3==0):\n",
    "    print(\"x is divisble by 6\")"
   ]
  },
  {
   "cell_type": "code",
   "execution_count": 10,
   "id": "1c770f07-d871-4ee9-9e60-fe538fb4503b",
   "metadata": {},
   "outputs": [
    {
     "name": "stdout",
     "output_type": "stream",
     "text": [
      "september\n"
     ]
    }
   ],
   "source": [
    "a=9\n",
    "if(a==1):\n",
    "    print(\"january\")\n",
    "if(a==2):\n",
    "    print(\"february\")\n",
    "if(a==3):\n",
    "    print(\"march\")\n",
    "if(a==4):\n",
    "    print(\"april\")\n",
    "if(a==5):\n",
    "    print(\"may\")\n",
    "if(a==6):\n",
    "    print(\"june\")\n",
    "if(a==7):\n",
    "    print(\"july\")\n",
    "if(a==8):\n",
    "    print(\"august\")\n",
    "if(a==9):\n",
    "    print(\"september\")\n",
    "if(a==10):\n",
    "    printf(\"october\")\n",
    "if(a==11):\n",
    "    printf(\"november\")\n",
    "if(a==12):\n",
    "    printf(\"december\")"
   ]
  },
  {
   "cell_type": "code",
   "execution_count": 14,
   "id": "cb5696f7-6714-4571-9224-a6bd4e439315",
   "metadata": {},
   "outputs": [
    {
     "name": "stdin",
     "output_type": "stream",
     "text": [
      "Enter the number of units:  100\n"
     ]
    },
    {
     "name": "stdout",
     "output_type": "stream",
     "text": [
      "Total amount: 500 rs\n"
     ]
    }
   ],
   "source": [
    "def calculate_amount(units):\n",
    "    total_amount = 0\n",
    "    # Calculate amount for each category\n",
    "    if units >= 10:\n",
    "        total_amount += 50 * (units // 10)\n",
    "        units %= 10\n",
    "    if units >= 20:\n",
    "        total_amount += 20 * (units // 20)\n",
    "        units %= 20\n",
    "    if units >= 10:\n",
    "        total_amount += 10 * (units // 10)\n",
    "        units %= 10\n",
    "    # For remaining units\n",
    "    total_amount += units * 5\n",
    "    return total_amount\n",
    "\n",
    "# Example usage\n",
    "units = int(input(\"Enter the number of units: \"))\n",
    "total_amount = calculate_amount(units)\n",
    "print(\"Total amount:\", total_amount, \"rs\")\n",
    "\n"
   ]
  },
  {
   "cell_type": "code",
   "execution_count": null,
   "id": "bb6b1735-fb6a-4219-9298-d0f48c609dc4",
   "metadata": {},
   "outputs": [],
   "source": []
  }
 ],
 "metadata": {
  "kernelspec": {
   "display_name": "Python 3 (ipykernel)",
   "language": "python",
   "name": "python3"
  },
  "language_info": {
   "codemirror_mode": {
    "name": "ipython",
    "version": 3
   },
   "file_extension": ".py",
   "mimetype": "text/x-python",
   "name": "python",
   "nbconvert_exporter": "python",
   "pygments_lexer": "ipython3",
   "version": "3.11.7"
  }
 },
 "nbformat": 4,
 "nbformat_minor": 5
}
