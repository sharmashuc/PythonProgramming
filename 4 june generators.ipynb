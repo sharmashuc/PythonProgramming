{
 "cells": [
  {
   "cell_type": "code",
   "execution_count": 14,
   "id": "d9e0ae6a-5136-48db-b1b1-0eb440f522be",
   "metadata": {},
   "outputs": [],
   "source": [
    "# generators vs function\n",
    "# decorators  :"
   ]
  },
  {
   "cell_type": "code",
   "execution_count": 2,
   "id": "1e793cd5-ed0c-41b4-b9c6-b0f49c3d2d42",
   "metadata": {},
   "outputs": [],
   "source": [
    "# like a function\n",
    "# similar to the normal function\n",
    "# in this we return value at a time"
   ]
  },
  {
   "cell_type": "code",
   "execution_count": 3,
   "id": "cf3b37c8-0667-40c8-8c4f-0f2ccf197747",
   "metadata": {},
   "outputs": [],
   "source": [
    "def func():\n",
    "    return\"abc\"\n",
    "    return\"def\""
   ]
  },
  {
   "cell_type": "code",
   "execution_count": 4,
   "id": "1506ba79-5638-4e98-8dd2-c5071b3c8619",
   "metadata": {},
   "outputs": [
    {
     "data": {
      "text/plain": [
       "'abc'"
      ]
     },
     "execution_count": 4,
     "metadata": {},
     "output_type": "execute_result"
    }
   ],
   "source": [
    "func()"
   ]
  },
  {
   "cell_type": "code",
   "execution_count": 15,
   "id": "947fd413-6335-410a-9bdd-572adc89913e",
   "metadata": {},
   "outputs": [
    {
     "data": {
      "text/plain": [
       "'abc'"
      ]
     },
     "execution_count": 15,
     "metadata": {},
     "output_type": "execute_result"
    }
   ],
   "source": [
    "def func():\n",
    "    yield\"hey\"\n",
    "    yield\"abc\"\n",
    "    yield\"def\"\n",
    "    yield\"egf\"\n",
    "    yield\"ijk\"\n",
    "    \n",
    "\n",
    "x=func()\n",
    "next(x)\n",
    "next(x)"
   ]
  },
  {
   "cell_type": "code",
   "execution_count": 16,
   "id": "e1557394-bb2a-42a9-b948-d16fddfc05e1",
   "metadata": {},
   "outputs": [
    {
     "data": {
      "text/plain": [
       "'def'"
      ]
     },
     "execution_count": 16,
     "metadata": {},
     "output_type": "execute_result"
    }
   ],
   "source": [
    "next(x)"
   ]
  },
  {
   "cell_type": "code",
   "execution_count": 17,
   "id": "93c12e5a-0f4a-415a-a989-86b45c5a7142",
   "metadata": {},
   "outputs": [
    {
     "data": {
      "text/plain": [
       "'egf'"
      ]
     },
     "execution_count": 17,
     "metadata": {},
     "output_type": "execute_result"
    }
   ],
   "source": [
    "x.__next__()\n",
    "#next(x)"
   ]
  },
  {
   "cell_type": "code",
   "execution_count": 18,
   "id": "ae046e2c-7035-48c1-9e3f-22f82d48fe7f",
   "metadata": {},
   "outputs": [
    {
     "data": {
      "text/plain": [
       "'ijk'"
      ]
     },
     "execution_count": 18,
     "metadata": {},
     "output_type": "execute_result"
    }
   ],
   "source": [
    "x.__next__()\n",
    "#next(x)"
   ]
  },
  {
   "cell_type": "code",
   "execution_count": 30,
   "id": "8359b94d-beef-4ac8-acdf-a43369569e57",
   "metadata": {},
   "outputs": [],
   "source": [
    "def generator(num):\n",
    "    for num in range(num):\n",
    "        yield num**3"
   ]
  },
  {
   "cell_type": "code",
   "execution_count": 31,
   "id": "559552ad-d7e8-465b-9876-c037ae2c5abc",
   "metadata": {},
   "outputs": [
    {
     "name": "stdout",
     "output_type": "stream",
     "text": [
      "0\n",
      "1\n",
      "8\n",
      "27\n",
      "64\n",
      "125\n",
      "216\n",
      "343\n",
      "512\n",
      "729\n"
     ]
    }
   ],
   "source": [
    "for i in generator(10):\n",
    "    print(i)"
   ]
  },
  {
   "cell_type": "code",
   "execution_count": 32,
   "id": "aaa70f4a-5a81-4a4b-a393-835c08c79d26",
   "metadata": {},
   "outputs": [
    {
     "name": "stdout",
     "output_type": "stream",
     "text": [
      "hey\n",
      "regex\n"
     ]
    }
   ],
   "source": [
    "def hello():\n",
    "    print(\"hey\")\n",
    "    return\"regex\"\n",
    "\n",
    "x=hello()\n",
    "print(x)"
   ]
  },
  {
   "cell_type": "code",
   "execution_count": 33,
   "id": "edcb64e3-d0e8-4bcc-b283-17e131db27e9",
   "metadata": {},
   "outputs": [
    {
     "name": "stdout",
     "output_type": "stream",
     "text": [
      "inner function\n",
      "None\n"
     ]
    }
   ],
   "source": [
    "def hello():\n",
    "    def inner2():\n",
    "        print(\"inner function\")\n",
    "    return inner2()\n",
    "\n",
    "x=hello()\n",
    "print(x)"
   ]
  },
  {
   "cell_type": "code",
   "execution_count": 37,
   "id": "d47de485-a389-4498-9c90-8f59f89a6529",
   "metadata": {},
   "outputs": [
    {
     "name": "stdout",
     "output_type": "stream",
     "text": [
      "<function hello.<locals>.inner2 at 0x0000024729BF5F80>\n"
     ]
    }
   ],
   "source": [
    "def hello():\n",
    "    def inner2():\n",
    "        print(\"regex software\")\n",
    "    return inner2\n",
    "\n",
    "x=hello()\n",
    "print(x)"
   ]
  },
  {
   "cell_type": "code",
   "execution_count": 44,
   "id": "a77dcf4d-3840-4e73-8bc6-298177388ec5",
   "metadata": {},
   "outputs": [
    {
     "name": "stdout",
     "output_type": "stream",
     "text": [
      "inner function\n"
     ]
    }
   ],
   "source": [
    "def hello():\n",
    "    def inner2():\n",
    "        print(\"inner function\",)\n",
    "    return inner2\n",
    "\n",
    "x=hello()\n",
    "x()"
   ]
  },
  {
   "cell_type": "code",
   "execution_count": 43,
   "id": "041c26fd-d545-4d91-8c8e-3fd2bb487c9e",
   "metadata": {},
   "outputs": [
    {
     "name": "stdout",
     "output_type": "stream",
     "text": [
      "inner function <function test at 0x000002472A9FF380>\n"
     ]
    }
   ],
   "source": [
    "def hello(num):\n",
    "    def inner2():\n",
    "        print(\"inner function\",num)\n",
    "    return inner2\n",
    "def test():\n",
    "    print(\"this is test function\")\n",
    "x=hello(test)\n",
    "x()"
   ]
  },
  {
   "cell_type": "code",
   "execution_count": 49,
   "id": "732b3f72-31d9-4df6-90ac-f2a3752b3cb5",
   "metadata": {},
   "outputs": [
    {
     "name": "stdout",
     "output_type": "stream",
     "text": [
      "inner function\n"
     ]
    }
   ],
   "source": [
    "def hello(num):\n",
    "    def inner2():\n",
    "        print(\"inner function\")\n",
    "        func()\n",
    "    return inner2\n",
    "\n",
    "def test():\n",
    "    print(\"this is test function\")\n",
    "x=hello(test)\n",
    "x()"
   ]
  },
  {
   "cell_type": "code",
   "execution_count": 61,
   "id": "d6045b42-169d-449b-8c23-799bed3046b0",
   "metadata": {},
   "outputs": [
    {
     "name": "stdout",
     "output_type": "stream",
     "text": [
      "inner function\n",
      "this is test function\n"
     ]
    }
   ],
   "source": [
    "def hello1(func):\n",
    "    def inner2():\n",
    "        print(\"inner function\")\n",
    "        func()\n",
    "    \n",
    "    return inner2\n",
    "\n",
    "def test1():\n",
    "    print(\"this is test function\")\n",
    "x=hello1(test1)\n",
    "x()"
   ]
  },
  {
   "cell_type": "code",
   "execution_count": 62,
   "id": "3f3f68a2-a6d4-488d-9321-3d5b1e6fa103",
   "metadata": {},
   "outputs": [
    {
     "name": "stdout",
     "output_type": "stream",
     "text": [
      "inner function\n",
      "this is test function\n"
     ]
    }
   ],
   "source": [
    "def hello1(func):\n",
    "    def inner2():\n",
    "        print(\"inner function\")\n",
    "        func()\n",
    "    \n",
    "    return inner2\n",
    "@hello1\n",
    "def test1():\n",
    "    print(\"this is test function\")\n",
    "test1()"
   ]
  },
  {
   "cell_type": "code",
   "execution_count": 65,
   "id": "fdc52b30-32b3-4460-a59e-e5e04be0283d",
   "metadata": {},
   "outputs": [
    {
     "name": "stdout",
     "output_type": "stream",
     "text": [
      "inner function\n",
      "this is test function\n"
     ]
    }
   ],
   "source": [
    "test1=hello1(test1)\n",
    "test1()"
   ]
  },
  {
   "cell_type": "code",
   "execution_count": null,
   "id": "66d14346-298f-4139-b5de-6c1903b92f3e",
   "metadata": {},
   "outputs": [],
   "source": []
  }
 ],
 "metadata": {
  "kernelspec": {
   "display_name": "Python 3 (ipykernel)",
   "language": "python",
   "name": "python3"
  },
  "language_info": {
   "codemirror_mode": {
    "name": "ipython",
    "version": 3
   },
   "file_extension": ".py",
   "mimetype": "text/x-python",
   "name": "python",
   "nbconvert_exporter": "python",
   "pygments_lexer": "ipython3",
   "version": "3.11.7"
  }
 },
 "nbformat": 4,
 "nbformat_minor": 5
}
