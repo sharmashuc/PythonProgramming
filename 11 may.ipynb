{
 "cells": [
  {
   "cell_type": "code",
   "execution_count": 4,
   "id": "8760f592-3077-4d0b-affd-cab340a0917b",
   "metadata": {},
   "outputs": [
    {
     "name": "stdout",
     "output_type": "stream",
     "text": [
      "1234 \n",
      "1234 \n",
      "1234 \n",
      "1234 \n"
     ]
    }
   ],
   "source": [
    "for i in range (1,5):\n",
    "    for j in range (1,5):\n",
    "        print(j,end=\"\")\n",
    "    print(\" \")"
   ]
  },
  {
   "cell_type": "code",
   "execution_count": 5,
   "id": "7d375b06-dfff-410e-8500-e1f11451322a",
   "metadata": {},
   "outputs": [
    {
     "name": "stdout",
     "output_type": "stream",
     "text": [
      "1111 \n",
      "2222 \n",
      "3333 \n",
      "4444 \n"
     ]
    }
   ],
   "source": [
    "for i in range (1,5):\n",
    "    for j in range (1,5):\n",
    "        print(i,end=\"\")\n",
    "    print(\" \")"
   ]
  },
  {
   "cell_type": "code",
   "execution_count": 11,
   "id": "75a8b5df-eb0a-4e32-acd2-5e2835994b8f",
   "metadata": {},
   "outputs": [
    {
     "name": "stdout",
     "output_type": "stream",
     "text": [
      "4 3 2 1  \n",
      "4 3 2 1  \n",
      "4 3 2 1  \n",
      "4 3 2 1  \n"
     ]
    }
   ],
   "source": [
    "for i in range (1,5):\n",
    "    for j in range (4,0,-1):\n",
    "        print(j,end=\" \")\n",
    "    print(\" \")    "
   ]
  },
  {
   "cell_type": "code",
   "execution_count": 13,
   "id": "cba41bf2-c9cc-4f35-9550-4a79262d0594",
   "metadata": {},
   "outputs": [
    {
     "name": "stdout",
     "output_type": "stream",
     "text": [
      "100 101 102  \n",
      "100 101 102  \n",
      "100 101 102  \n"
     ]
    }
   ],
   "source": [
    "for i in range (100,103):\n",
    "    for j in range (100,103 ):\n",
    "        print(j,end=\" \")\n",
    "    print(\" \")"
   ]
  },
  {
   "cell_type": "code",
   "execution_count": 30,
   "id": "d000d408-2439-4098-8d4f-186b6e4b6182",
   "metadata": {},
   "outputs": [
    {
     "name": "stdout",
     "output_type": "stream",
     "text": [
      "*  \n",
      "* *  \n",
      "* * *  \n",
      "* * * *  \n"
     ]
    }
   ],
   "source": [
    "for i in range (1,5):\n",
    "    for j in range (1,i+1):\n",
    "        print(\"*\",end=\" \")\n",
    "    print(\" \")    "
   ]
  },
  {
   "cell_type": "code",
   "execution_count": 32,
   "id": "bf3368f8-fe83-4ccc-92f4-0a130cc8b171",
   "metadata": {},
   "outputs": [
    {
     "name": "stdout",
     "output_type": "stream",
     "text": [
      "* * * *   \n",
      "* * *   \n",
      "* *   \n",
      "*   \n"
     ]
    }
   ],
   "source": [
    "for i in range (1,5):\n",
    "    for j in range (i,5):\n",
    "        print(\"*\",end=\" \")\n",
    "    print(\"  \")    "
   ]
  },
  {
   "cell_type": "code",
   "execution_count": 35,
   "id": "631708d6-3070-48b4-9612-82dd36f66014",
   "metadata": {},
   "outputs": [
    {
     "name": "stdout",
     "output_type": "stream",
     "text": [
      "$ $ $ *  \n",
      "$ $ * *  \n",
      "$ * * *  \n",
      "* * * *  \n"
     ]
    }
   ],
   "source": [
    "for i in range (1,5):\n",
    "   for k in range(i,4):\n",
    "       print(\"$\",end=\" \")\n",
    "   for t in range (i):\n",
    "       print(\"*\",end=\" \")\n",
    "   print(\" \")    \n",
    "       \n",
    "        "
   ]
  },
  {
   "cell_type": "code",
   "execution_count": null,
   "id": "13e58c6d-4bab-4de9-b5b9-3d488948b4bd",
   "metadata": {},
   "outputs": [],
   "source": []
  },
  {
   "cell_type": "code",
   "execution_count": null,
   "id": "64aa70e7-2579-447d-b5e5-352877526c6c",
   "metadata": {},
   "outputs": [],
   "source": []
  }
 ],
 "metadata": {
  "kernelspec": {
   "display_name": "Python 3 (ipykernel)",
   "language": "python",
   "name": "python3"
  },
  "language_info": {
   "codemirror_mode": {
    "name": "ipython",
    "version": 3
   },
   "file_extension": ".py",
   "mimetype": "text/x-python",
   "name": "python",
   "nbconvert_exporter": "python",
   "pygments_lexer": "ipython3",
   "version": "3.11.7"
  }
 },
 "nbformat": 4,
 "nbformat_minor": 5
}
