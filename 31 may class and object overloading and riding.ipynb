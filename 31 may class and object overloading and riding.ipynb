{
 "cells": [
  {
   "cell_type": "code",
   "execution_count": 4,
   "id": "4731b7fe-d071-4a4a-9ca9-89afd87ac95d",
   "metadata": {},
   "outputs": [],
   "source": [
    "#polymorphism : poly many phisma ==>form\n",
    "#function,object,operator"
   ]
  },
  {
   "cell_type": "code",
   "execution_count": 1,
   "id": "333e93d3-eb91-403b-a4a1-cfad96bab75b",
   "metadata": {},
   "outputs": [
    {
     "data": {
      "text/plain": [
       "3"
      ]
     },
     "execution_count": 1,
     "metadata": {},
     "output_type": "execute_result"
    }
   ],
   "source": [
    "1+2"
   ]
  },
  {
   "cell_type": "code",
   "execution_count": 2,
   "id": "81679f66-bf63-4510-abae-10e880daee7d",
   "metadata": {},
   "outputs": [
    {
     "data": {
      "text/plain": [
       "'13'"
      ]
     },
     "execution_count": 2,
     "metadata": {},
     "output_type": "execute_result"
    }
   ],
   "source": [
    "\"1\"+\"3\""
   ]
  },
  {
   "cell_type": "code",
   "execution_count": 3,
   "id": "5c46c208-f827-40b7-8b12-e667c1eb2220",
   "metadata": {},
   "outputs": [],
   "source": [
    "#method overloading and over riding"
   ]
  },
  {
   "cell_type": "code",
   "execution_count": 7,
   "id": "f45857f7-b82b-47b9-b2e9-e5c71aa93ade",
   "metadata": {},
   "outputs": [],
   "source": [
    "class parent:\n",
    "    def info(eid):\n",
    "        print(\"this is the parent class\")\n",
    "class child(parent):\n",
    "    def cinfo(eid):\n",
    "        print(\"this is the child class\")\n"
   ]
  },
  {
   "cell_type": "code",
   "execution_count": 8,
   "id": "8b3b623b-9e9f-4b37-8622-c8f271e46476",
   "metadata": {},
   "outputs": [
    {
     "name": "stdout",
     "output_type": "stream",
     "text": [
      "this is the parent class\n"
     ]
    }
   ],
   "source": [
    "c1=child()\n",
    "c1.info()"
   ]
  },
  {
   "cell_type": "code",
   "execution_count": 9,
   "id": "694b24d4-2c4d-4865-a304-393ed6279dec",
   "metadata": {},
   "outputs": [
    {
     "data": {
      "text/plain": [
       "10"
      ]
     },
     "execution_count": 9,
     "metadata": {},
     "output_type": "execute_result"
    }
   ],
   "source": [
    "class raj:\n",
    "    def __init__(self, num1, num2):\n",
    "        self.num1=num1\n",
    "        self.num2=num2\n",
    "\n",
    "r1=raj(10,20)\n",
    "r1.num1"
   ]
  },
  {
   "cell_type": "code",
   "execution_count": 10,
   "id": "a6b08015-03d8-4565-a9b3-9044dd506916",
   "metadata": {},
   "outputs": [
    {
     "name": "stdout",
     "output_type": "stream",
     "text": [
      "<__main__.raj object at 0x000001488355D210>\n"
     ]
    }
   ],
   "source": [
    "class raj:\n",
    "    def __init__(self, num1, num2):\n",
    "        self.num1=num1\n",
    "        self.num2=num2\n",
    "\n",
    "r1=raj(10,20)\n",
    "print(r1)"
   ]
  },
  {
   "cell_type": "code",
   "execution_count": 11,
   "id": "c247dcef-4760-4372-a558-38dad8dd7fc6",
   "metadata": {},
   "outputs": [
    {
     "name": "stdout",
     "output_type": "stream",
     "text": [
      "raj class has 10 20\n"
     ]
    }
   ],
   "source": [
    "class raj:\n",
    "    def __init__(self, num1, num2):\n",
    "        self.num1=num1\n",
    "        self.num2=num2\n",
    "\n",
    "    #object ko represent kr skta hu\n",
    "    def __repr__(self):\n",
    "        return f\"raj class has {self.num1} {self.num2}\"\n",
    "\n",
    "r1=raj(10,20)\n",
    "print(r1)"
   ]
  },
  {
   "cell_type": "code",
   "execution_count": 15,
   "id": "7458a0c2-fcb9-410e-9768-567e6ea4e4ac",
   "metadata": {},
   "outputs": [
    {
     "data": {
      "text/plain": [
       "raj class has 35 55"
      ]
     },
     "execution_count": 15,
     "metadata": {},
     "output_type": "execute_result"
    }
   ],
   "source": [
    "class raj:\n",
    "    def __init__(self, num1, num2):\n",
    "        self.num1=num1\n",
    "        self.num2=num2\n",
    "\n",
    "    #object ko represent kr skta hu\n",
    "    def __repr__(self):\n",
    "        return f\"raj class has {self.num1} {self.num2}\"\n",
    "\n",
    "r1=raj(10,20)\n",
    "r2=raj(35,55)\n",
    "r2"
   ]
  },
  {
   "cell_type": "code",
   "execution_count": 16,
   "id": "0c17a43e-cb76-4541-8094-45cb2eae555a",
   "metadata": {},
   "outputs": [
    {
     "data": {
      "text/plain": [
       "'hey'"
      ]
     },
     "execution_count": 16,
     "metadata": {},
     "output_type": "execute_result"
    }
   ],
   "source": [
    "class raj:\n",
    "    def __init__(self, num1, num2):\n",
    "        self.num1=num1\n",
    "        self.num2=num2\n",
    "\n",
    "    #object ko represent kr skta hu\n",
    "    def __repr__(self):\n",
    "        return f\"raj class has {self.num1} {self.num2}\"\n",
    "    def __add__(self, x):\n",
    "        return \"hey\"\n",
    "r1=raj(10,20)\n",
    "r2=raj(35,55)\n",
    "r1+r2\n",
    "\n",
    "#r1.__add__(r2)"
   ]
  },
  {
   "cell_type": "code",
   "execution_count": 17,
   "id": "a72564c6-bfa1-4b05-a9e7-bdfc3e3af05d",
   "metadata": {},
   "outputs": [
    {
     "data": {
      "text/plain": [
       "raj class has 35 55"
      ]
     },
     "execution_count": 17,
     "metadata": {},
     "output_type": "execute_result"
    }
   ],
   "source": [
    "class raj:\n",
    "    def __init__(self, num1, num2):\n",
    "        self.num1=num1\n",
    "        self.num2=num2\n",
    "\n",
    "    #object ko represent kr skta hu\n",
    "    def __repr__(self):\n",
    "        return f\"raj class has {self.num1} {self.num2}\"\n",
    "    def __add__(self, x):\n",
    "        return x\n",
    "r1=raj(10,20)\n",
    "r2=raj(35,55)\n",
    "r1+r2\n",
    "\n",
    "#r1.__add__(r2)"
   ]
  },
  {
   "cell_type": "code",
   "execution_count": 19,
   "id": "6f82dabd-da7a-4e06-8c28-f8c790a025f7",
   "metadata": {},
   "outputs": [
    {
     "data": {
      "text/plain": [
       "raj class has 10 20"
      ]
     },
     "execution_count": 19,
     "metadata": {},
     "output_type": "execute_result"
    }
   ],
   "source": [
    "r1"
   ]
  },
  {
   "cell_type": "code",
   "execution_count": 23,
   "id": "776e9b70-625d-4354-af10-33dac5bc1fc4",
   "metadata": {},
   "outputs": [
    {
     "data": {
      "text/plain": [
       "45"
      ]
     },
     "execution_count": 23,
     "metadata": {},
     "output_type": "execute_result"
    }
   ],
   "source": [
    "class raj:\n",
    "    def __init__(self, num1, num2):\n",
    "        self.num1=num1\n",
    "        self.num2=num2\n",
    "\n",
    "    #object ko represent kr skta hu\n",
    "    def __repr__(self):\n",
    "        return f\"raj class has {self.num1} {self.num2}\"\n",
    "    # self = r1   obj = r2\n",
    "    def __add__(self, obj):\n",
    "        x1 = self.num1 + obj.num1\n",
    "        return x1\n",
    "\n",
    "r1=raj(10,20)\n",
    "r2=raj(35,55)\n",
    "r1+r2\n",
    "\n",
    "#r1.__add__(r2)"
   ]
  },
  {
   "cell_type": "code",
   "execution_count": 29,
   "id": "9db7a3fb-921e-432f-8fce-c1e2a3f797a9",
   "metadata": {},
   "outputs": [
    {
     "data": {
      "text/plain": [
       "130"
      ]
     },
     "execution_count": 29,
     "metadata": {},
     "output_type": "execute_result"
    }
   ],
   "source": [
    "class raj:\n",
    "    def __init__(self, num1, num2):\n",
    "        self.num1=num1\n",
    "        self.num2=num2\n",
    "\n",
    "    #object ko represent kr skta hu\n",
    "    def __repr__(self):\n",
    "        return f\"raj class has {self.num1} {self.num2}\"\n",
    "    # self = r1   obj = r2\n",
    "    def __add__(self, obj):\n",
    "        x1 = self.num1 + obj.num1\n",
    "        return x1\n",
    "\n",
    "r1=raj(70,80)\n",
    "r2=raj(60,30)\n",
    "r1+r2\n",
    "\n",
    "#r1.__add__(r2)"
   ]
  },
  {
   "cell_type": "code",
   "execution_count": null,
   "id": "d753ba45-6a2e-446b-8a72-daf90e790866",
   "metadata": {},
   "outputs": [],
   "source": []
  }
 ],
 "metadata": {
  "kernelspec": {
   "display_name": "Python 3 (ipykernel)",
   "language": "python",
   "name": "python3"
  },
  "language_info": {
   "codemirror_mode": {
    "name": "ipython",
    "version": 3
   },
   "file_extension": ".py",
   "mimetype": "text/x-python",
   "name": "python",
   "nbconvert_exporter": "python",
   "pygments_lexer": "ipython3",
   "version": "3.11.7"
  }
 },
 "nbformat": 4,
 "nbformat_minor": 5
}
