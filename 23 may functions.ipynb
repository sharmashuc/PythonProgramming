{
 "cells": [
  {
   "cell_type": "markdown",
   "id": "2b7cd36c-e656-4029-bb48-8ac436e7e36a",
   "metadata": {},
   "source": [
    "# first class function"
   ]
  },
  {
   "cell_type": "code",
   "execution_count": 2,
   "id": "a68d5119-fe02-4eb3-a95f-eeb3571af707",
   "metadata": {},
   "outputs": [
    {
     "name": "stdout",
     "output_type": "stream",
     "text": [
      "30\n"
     ]
    }
   ],
   "source": [
    "def test(x):\n",
    "    print(x+10)\n",
    "out=test(20)    "
   ]
  },
  {
   "cell_type": "code",
   "execution_count": 3,
   "id": "e8c52b35-d0d7-49a6-94fc-934cf3673d34",
   "metadata": {},
   "outputs": [
    {
     "data": {
      "text/plain": [
       "'hello'"
      ]
     },
     "execution_count": 3,
     "metadata": {},
     "output_type": "execute_result"
    }
   ],
   "source": [
    "def test():\n",
    "    return(\"hello\")\n",
    "test()    "
   ]
  },
  {
   "cell_type": "code",
   "execution_count": 4,
   "id": "be3ce874-39e9-4418-ad92-61a603b44b4b",
   "metadata": {},
   "outputs": [
    {
     "name": "stdout",
     "output_type": "stream",
     "text": [
      "10\n",
      "None\n"
     ]
    }
   ],
   "source": [
    "def test():\n",
    "    print(10)\n",
    "out=test()\n",
    "print(out)"
   ]
  },
  {
   "cell_type": "markdown",
   "id": "4000cc59-495d-4960-9fae-f5953e29726d",
   "metadata": {},
   "source": [
    "# high orderd function "
   ]
  },
  {
   "cell_type": "code",
   "execution_count": 10,
   "id": "64844901-a4a4-4b84-8e41-9bfc15476948",
   "metadata": {},
   "outputs": [
    {
     "name": "stdout",
     "output_type": "stream",
     "text": [
      "10 25\n"
     ]
    },
    {
     "data": {
      "text/plain": [
       "30"
      ]
     },
     "execution_count": 10,
     "metadata": {},
     "output_type": "execute_result"
    }
   ],
   "source": [
    "def test(x):\n",
    "    return x+10\n",
    "def addnumber(num1 ,num2):\n",
    "    print(num1 ,num2(15))\n",
    "addnumber(10,test)\n",
    "test(20)\n"
   ]
  },
  {
   "cell_type": "code",
   "execution_count": 16,
   "id": "24ea9525-cee1-44ab-a2aa-4c5314cba661",
   "metadata": {},
   "outputs": [
    {
     "name": "stdout",
     "output_type": "stream",
     "text": [
      "[10, 20, 30, 40, 50]\n"
     ]
    }
   ],
   "source": [
    "mylist=[10,20,30,40,50]\n",
    "print(mylist)"
   ]
  },
  {
   "cell_type": "code",
   "execution_count": 18,
   "id": "d78259db-0f06-4fc8-9d57-7f8a6634dc58",
   "metadata": {},
   "outputs": [],
   "source": [
    "mylist=[10,20,30,40,50]\n",
    "def list(x):\n",
    "    mylist.append(10,20,30,40,50)\n",
    "    for i in range\n",
    "    "
   ]
  },
  {
   "cell_type": "code",
   "execution_count": 22,
   "id": "4acab116-0b82-44df-ae71-35d01259cb91",
   "metadata": {},
   "outputs": [
    {
     "name": "stdout",
     "output_type": "stream",
     "text": [
      "hello\n"
     ]
    }
   ],
   "source": [
    "def test():\n",
    "    print(\"hello\")\n",
    "mylist = [test() ]    \n",
    "mylist[0]"
   ]
  },
  {
   "cell_type": "code",
   "execution_count": 23,
   "id": "50b0fe92-b217-4cda-afa0-5af2670642ee",
   "metadata": {},
   "outputs": [
    {
     "name": "stdout",
     "output_type": "stream",
     "text": [
      "hello\n",
      "None\n"
     ]
    }
   ],
   "source": [
    "def test():\n",
    "    print(\"hello\")\n",
    "mylist = [test() ]    \n",
    "print (mylist[0] )"
   ]
  },
  {
   "cell_type": "code",
   "execution_count": 39,
   "id": "7a4e69a5-916d-4553-99c7-03954cbe9bb7",
   "metadata": {},
   "outputs": [
    {
     "name": "stdout",
     "output_type": "stream",
     "text": [
      "Average value: 25.0\n"
     ]
    }
   ],
   "source": [
    "mylist =[10,20,30,40]\n",
    "average =lambda lst: sum(lst) / len(lst)\n",
    "print(\"Average value:\", average(my_list))   "
   ]
  },
  {
   "cell_type": "code",
   "execution_count": 40,
   "id": "21e1f3c9-fdb4-49cf-b0d8-1d3ad02ec873",
   "metadata": {},
   "outputs": [
    {
     "name": "stdout",
     "output_type": "stream",
     "text": [
      "{'hey': 25.0}\n"
     ]
    }
   ],
   "source": [
    "dict1={'hey':average(my_list)}\n",
    "print(dict1)"
   ]
  },
  {
   "cell_type": "code",
   "execution_count": null,
   "id": "799ddb9d-7bad-41f7-8ca6-2b452cec8fb2",
   "metadata": {},
   "outputs": [],
   "source": []
  }
 ],
 "metadata": {
  "kernelspec": {
   "display_name": "Python 3 (ipykernel)",
   "language": "python",
   "name": "python3"
  },
  "language_info": {
   "codemirror_mode": {
    "name": "ipython",
    "version": 3
   },
   "file_extension": ".py",
   "mimetype": "text/x-python",
   "name": "python",
   "nbconvert_exporter": "python",
   "pygments_lexer": "ipython3",
   "version": "3.11.7"
  }
 },
 "nbformat": 4,
 "nbformat_minor": 5
}
