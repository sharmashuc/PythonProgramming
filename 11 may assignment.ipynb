{
 "cells": [
  {
   "cell_type": "code",
   "execution_count": 12,
   "id": "de66aa86-bc26-4a6c-853c-37a2b0a745ee",
   "metadata": {},
   "outputs": [
    {
     "name": "stdout",
     "output_type": "stream",
     "text": [
      "1 \n",
      "12 \n",
      "123 \n",
      "1234 \n"
     ]
    }
   ],
   "source": [
    "for i in range(1, 5):\n",
    "    for j in range(1, i + 1):\n",
    "        print(j, end='')\n",
    "    print(\" \")   "
   ]
  },
  {
   "cell_type": "code",
   "execution_count": 13,
   "id": "76e75075-f1ee-4631-ad1f-0b2c7c1886dc",
   "metadata": {},
   "outputs": [
    {
     "name": "stdout",
     "output_type": "stream",
     "text": [
      "1  \n",
      "2 3  \n",
      "4 5 6  \n",
      "7 8 9 10  \n"
     ]
    }
   ],
   "source": [
    "num = 1\n",
    "for i in range(1, 5):\n",
    "    for j in range(1, i + 1):\n",
    "        print(num, end=' ')\n",
    "        num += 1\n",
    "    print(\" \")"
   ]
  },
  {
   "cell_type": "code",
   "execution_count": 14,
   "id": "97067e43-4d4c-41d2-a641-3ed875f83c39",
   "metadata": {},
   "outputs": [
    {
     "name": "stdout",
     "output_type": "stream",
     "text": [
      "10  \n",
      "9 8  \n",
      "7 6 5  \n",
      "4 3 2 1  \n"
     ]
    }
   ],
   "source": [
    "num = 10\n",
    "for i in range(4, 0, -1):\n",
    "    for j in range(i, 5):\n",
    "        print(num, end=' ')\n",
    "        num -= 1\n",
    "    print(\" \")"
   ]
  },
  {
   "cell_type": "code",
   "execution_count": 15,
   "id": "a75c5989-30d6-4756-8ac8-f1983a8ec7b9",
   "metadata": {},
   "outputs": [
    {
     "name": "stdout",
     "output_type": "stream",
     "text": [
      "A \n",
      "AB \n",
      "ABC \n",
      "ABCD \n"
     ]
    }
   ],
   "source": [
    "for i in range(1, 5):\n",
    "    for j in range(1, i + 1):\n",
    "        print(chr(64 + j), end='')\n",
    "    print(\" \")"
   ]
  },
  {
   "cell_type": "code",
   "execution_count": 18,
   "id": "f76150c8-e71e-403a-aaaf-c0bdef2952cc",
   "metadata": {},
   "outputs": [
    {
     "name": "stdout",
     "output_type": "stream",
     "text": [
      "Z \n",
      "YX \n",
      "WVU \n"
     ]
    }
   ],
   "source": [
    "start_char = 90  \n",
    "for i in range(1, 4):\n",
    "    for j in range(i):\n",
    "        print(chr(start_char), end='')\n",
    "        start_char -= 1\n",
    "    print(\" \")\n"
   ]
  },
  {
   "cell_type": "code",
   "execution_count": 19,
   "id": "c53047de-ec86-4190-b7c1-eac906694e57",
   "metadata": {},
   "outputs": [
    {
     "name": "stdout",
     "output_type": "stream",
     "text": [
      " *   \n",
      " *   *   \n",
      " *   *   *   \n",
      " *   *   *   *   \n",
      " *   *   *   *   *   \n"
     ]
    }
   ],
   "source": [
    "rows = 5\n",
    "for i in range(1, rows + 1):\n",
    "    for j in range(1, i + 1):\n",
    "        print(\" * \", end=\" \")\n",
    "    print(\" \")\n"
   ]
  },
  {
   "cell_type": "code",
   "execution_count": 29,
   "id": "23d11643-db57-4c81-a47b-f60a36ebea56",
   "metadata": {},
   "outputs": [
    {
     "name": "stdout",
     "output_type": "stream",
     "text": [
      "1 2 3 *  \n",
      "2 3 * *  \n",
      "3 * * *  \n"
     ]
    }
   ],
   "source": [
    " for i in range (1,4):\n",
    "   for k in range(i,4):\n",
    "       print(k,end=\" \")\n",
    "   for t in range (i):\n",
    "       print(\"*\",end=\" \")\n",
    "   print(\" \")    "
   ]
  },
  {
   "cell_type": "code",
   "execution_count": 30,
   "id": "f6951793-0725-437e-820f-fe0d63b922ad",
   "metadata": {},
   "outputs": [
    {
     "ename": "IndentationError",
     "evalue": "unexpected indent (3566474425.py, line 3)",
     "output_type": "error",
     "traceback": [
      "\u001b[1;36m  Cell \u001b[1;32mIn[30], line 3\u001b[1;36m\u001b[0m\n\u001b[1;33m    for j in range(i):\u001b[0m\n\u001b[1;37m    ^\u001b[0m\n\u001b[1;31mIndentationError\u001b[0m\u001b[1;31m:\u001b[0m unexpected indent\n"
     ]
    }
   ],
   "source": [
    "for i in range(1, rows + 1):\n",
    "    print(\" \" * (rows - i), end=\"\")\n",
    "        for j in range(i):\n",
    "            print(chr(65 + j), end=\"\")\n",
    "        print(\" \")\n",
    "rows = 4\n",
    "print_pattern(rows)"
   ]
  },
  {
   "cell_type": "code",
   "execution_count": null,
   "id": "bd039bf3-7319-440e-9d8e-bb87dde67fcc",
   "metadata": {},
   "outputs": [],
   "source": []
  },
  {
   "cell_type": "code",
   "execution_count": null,
   "id": "a9276d15-5af9-4cab-ac8a-48b1656c5606",
   "metadata": {},
   "outputs": [],
   "source": []
  }
 ],
 "metadata": {
  "kernelspec": {
   "display_name": "Python 3 (ipykernel)",
   "language": "python",
   "name": "python3"
  },
  "language_info": {
   "codemirror_mode": {
    "name": "ipython",
    "version": 3
   },
   "file_extension": ".py",
   "mimetype": "text/x-python",
   "name": "python",
   "nbconvert_exporter": "python",
   "pygments_lexer": "ipython3",
   "version": "3.11.7"
  }
 },
 "nbformat": 4,
 "nbformat_minor": 5
}
