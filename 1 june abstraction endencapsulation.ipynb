{
 "cells": [
  {
   "cell_type": "code",
   "execution_count": null,
   "id": "f08afe08-9e3c-4854-b2ff-ac0671bd0cd8",
   "metadata": {},
   "outputs": [],
   "source": [
    "# protected\n",
    "# default"
   ]
  },
  {
   "cell_type": "code",
   "execution_count": 6,
   "id": "6aca7152-59e5-4dcd-a9eb-7e876adc67cb",
   "metadata": {},
   "outputs": [
    {
     "data": {
      "text/plain": [
       "100"
      ]
     },
     "execution_count": 6,
     "metadata": {},
     "output_type": "execute_result"
    }
   ],
   "source": [
    "class Student:\n",
    "    __fee=100\n",
    "\n",
    "s1=Student()\n",
    "# __fee ==> _student__fee(name mangling)\n",
    "s1._Student__fee"
   ]
  },
  {
   "cell_type": "code",
   "execution_count": 7,
   "id": "6bae3166-ef8b-475c-992c-1e07fb73b931",
   "metadata": {},
   "outputs": [],
   "source": [
    "# abstaction : unwanted details ko hide krna"
   ]
  },
  {
   "cell_type": "code",
   "execution_count": 11,
   "id": "f248b300-670e-4245-945c-667dfa17bed5",
   "metadata": {},
   "outputs": [
    {
     "name": "stdout",
     "output_type": "stream",
     "text": [
      "legs are 2\n",
      "this is person class\n"
     ]
    }
   ],
   "source": [
    "from abc import ABC, abstractmethod\n",
    "class Mammels:\n",
    "    def legs(self):\n",
    "        return \"legs are 4\"\n",
    "\n",
    "class person(Mammels):\n",
    "    def legs(self):\n",
    "        return \"legs are 2\"\n",
    "\n",
    "    def info(self):\n",
    "        return \"this is person class\"\n",
    "\n",
    "p1=person()\n",
    "print(p1.legs())\n",
    "print(p1.info())"
   ]
  },
  {
   "cell_type": "code",
   "execution_count": 16,
   "id": "5a8d1d00-9dc0-40a6-ae49-d83ce36a76ff",
   "metadata": {},
   "outputs": [
    {
     "name": "stdout",
     "output_type": "stream",
     "text": [
      "legs are 2\n",
      "this is person class\n"
     ]
    }
   ],
   "source": [
    "from abc import ABC, abstractmethod\n",
    "# mammels class is importing ABC: abstract base class\n",
    "class Mammels(ABC):\n",
    "    @abstractmethod\n",
    "    def legs(self):\n",
    "       pass\n",
    "\n",
    "class person(Mammels):\n",
    "    def legs(self):\n",
    "        return \"legs are 2\"\n",
    "\n",
    "    def info(self):\n",
    "        return \"this is person class\"\n",
    "\n",
    "p1=person()\n",
    "print(p1.legs())\n",
    "print(p1.info())"
   ]
  },
  {
   "cell_type": "code",
   "execution_count": null,
   "id": "b867caed-f9d9-4654-a934-9855ba733eeb",
   "metadata": {},
   "outputs": [],
   "source": []
  }
 ],
 "metadata": {
  "kernelspec": {
   "display_name": "Python 3 (ipykernel)",
   "language": "python",
   "name": "python3"
  },
  "language_info": {
   "codemirror_mode": {
    "name": "ipython",
    "version": 3
   },
   "file_extension": ".py",
   "mimetype": "text/x-python",
   "name": "python",
   "nbconvert_exporter": "python",
   "pygments_lexer": "ipython3",
   "version": "3.11.7"
  }
 },
 "nbformat": 4,
 "nbformat_minor": 5
}
