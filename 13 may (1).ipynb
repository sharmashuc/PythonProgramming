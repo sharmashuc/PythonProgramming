{
 "cells": [
  {
   "cell_type": "code",
   "execution_count": 1,
   "id": "02909859-4ff7-43b8-bfd0-23e48265b508",
   "metadata": {},
   "outputs": [
    {
     "data": {
      "text/plain": [
       "20"
      ]
     },
     "execution_count": 1,
     "metadata": {},
     "output_type": "execute_result"
    }
   ],
   "source": [
    " mylist=[10,20,\"hello\"]\n",
    "mylist[1]"
   ]
  },
  {
   "cell_type": "code",
   "execution_count": 2,
   "id": "1cac5365-2f4f-49ec-b4c6-61d3ddf6ea5d",
   "metadata": {},
   "outputs": [
    {
     "data": {
      "text/plain": [
       "[10, 20, 'hello']"
      ]
     },
     "execution_count": 2,
     "metadata": {},
     "output_type": "execute_result"
    }
   ],
   "source": [
    "mylist[0:3]"
   ]
  },
  {
   "cell_type": "code",
   "execution_count": 3,
   "id": "c12db6e7-9376-4b7b-a42c-778df6bc0d5f",
   "metadata": {},
   "outputs": [
    {
     "name": "stdout",
     "output_type": "stream",
     "text": [
      "[10, 20, 'hello', 66]\n"
     ]
    }
   ],
   "source": [
    "#insert\n",
    "mylist.append(66)\n",
    "print(mylist)"
   ]
  },
  {
   "cell_type": "code",
   "execution_count": 8,
   "id": "157df8d8-a233-4b90-876b-e0227646a90c",
   "metadata": {},
   "outputs": [
    {
     "name": "stdout",
     "output_type": "stream",
     "text": [
      "[10, 20, 'hello', 66, 'yash', 101, 200, 500, 800]\n"
     ]
    }
   ],
   "source": [
    "mylist.extend([\"yash\",101,200,500,800])\n",
    "print(mylist)\n"
   ]
  },
  {
   "cell_type": "code",
   "execution_count": 9,
   "id": "c6903006-7adf-41f1-b38e-6ba44ff622e3",
   "metadata": {},
   "outputs": [
    {
     "data": {
      "text/plain": [
       "800"
      ]
     },
     "execution_count": 9,
     "metadata": {},
     "output_type": "execute_result"
    }
   ],
   "source": [
    "mylist.pop()"
   ]
  },
  {
   "cell_type": "code",
   "execution_count": 11,
   "id": "838ab2ea-3b34-488f-b3d5-0cb5e5df0b94",
   "metadata": {},
   "outputs": [
    {
     "name": "stdout",
     "output_type": "stream",
     "text": [
      "[10, 20, 'hello', 66, 'yash', 101, 200, 500, 'hey,hello', 300, 700, 500, 70, 50]\n"
     ]
    }
   ],
   "source": [
    "mylist.extend([\"hey,hello\",300,700,500,70,50])\n",
    "print(mylist)"
   ]
  },
  {
   "cell_type": "code",
   "execution_count": 14,
   "id": "c998be10-97d9-44d4-b0e5-fbea305930d5",
   "metadata": {},
   "outputs": [
    {
     "name": "stdout",
     "output_type": "stream",
     "text": [
      "[10, 20, 'hello', 66, 'yash', 101, 200, 500, 'hey,hello', 300, 700, 500, 70]\n"
     ]
    }
   ],
   "source": [
    "del mylist[-1]\n",
    "print(mylist)"
   ]
  },
  {
   "cell_type": "code",
   "execution_count": 15,
   "id": "32f3e98c-b1e8-427e-9ac1-992f4ab290da",
   "metadata": {},
   "outputs": [
    {
     "name": "stdout",
     "output_type": "stream",
     "text": [
      "[10, 20, 'hello', 66, 'yash', 101, 200, 500, 'hey,hello', 300, 700, 500]\n"
     ]
    }
   ],
   "source": [
    "del mylist[-1]\n",
    "print(mylist)"
   ]
  },
  {
   "cell_type": "code",
   "execution_count": null,
   "id": "5067f071-d473-426d-a933-c0bca0739f52",
   "metadata": {},
   "outputs": [],
   "source": []
  }
 ],
 "metadata": {
  "kernelspec": {
   "display_name": "Python 3 (ipykernel)",
   "language": "python",
   "name": "python3"
  },
  "language_info": {
   "codemirror_mode": {
    "name": "ipython",
    "version": 3
   },
   "file_extension": ".py",
   "mimetype": "text/x-python",
   "name": "python",
   "nbconvert_exporter": "python",
   "pygments_lexer": "ipython3",
   "version": "3.11.7"
  }
 },
 "nbformat": 4,
 "nbformat_minor": 5
}
