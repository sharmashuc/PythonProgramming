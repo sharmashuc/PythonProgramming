{
 "cells": [
  {
   "cell_type": "code",
   "execution_count": 10,
   "id": "f359d15a-7bef-4722-be07-4cb145f0f700",
   "metadata": {},
   "outputs": [
    {
     "name": "stdout",
     "output_type": "stream",
     "text": [
      "55\n",
      "106\n",
      "158\n",
      "211\n",
      "265\n",
      "320\n",
      "376\n",
      "433\n",
      "491\n",
      "550\n",
      "610\n",
      "671\n",
      "733\n",
      "796\n",
      "860\n",
      "925\n",
      "991\n",
      "1058\n",
      "1126\n",
      "1195\n"
     ]
    }
   ],
   "source": [
    "sum=5\n",
    "for i in range (50,70):\n",
    "    sum=sum+i\n",
    "    print(sum)"
   ]
  },
  {
   "cell_type": "code",
   "execution_count": 15,
   "id": "50087f1f-d3fe-4463-811f-608180a2cfec",
   "metadata": {},
   "outputs": [
    {
     "ename": "SyntaxError",
     "evalue": "incomplete input (1419804058.py, line 6)",
     "output_type": "error",
     "traceback": [
      "\u001b[1;36m  Cell \u001b[1;32mIn[15], line 6\u001b[1;36m\u001b[0m\n\u001b[1;33m    \u001b[0m\n\u001b[1;37m    ^\u001b[0m\n\u001b[1;31mSyntaxError\u001b[0m\u001b[1;31m:\u001b[0m incomplete input\n"
     ]
    }
   ],
   "source": [
    "a=raju\n",
    "vowel=0\n",
    "for i in range[0,len[a]]:\n",
    "    if[a[i]!=\n",
    "       \n",
    "    "
   ]
  },
  {
   "cell_type": "code",
   "execution_count": null,
   "id": "ec536bb2-b313-47cd-adda-513d6a480c1e",
   "metadata": {},
   "outputs": [],
   "source": []
  }
 ],
 "metadata": {
  "kernelspec": {
   "display_name": "Python 3 (ipykernel)",
   "language": "python",
   "name": "python3"
  },
  "language_info": {
   "codemirror_mode": {
    "name": "ipython",
    "version": 3
   },
   "file_extension": ".py",
   "mimetype": "text/x-python",
   "name": "python",
   "nbconvert_exporter": "python",
   "pygments_lexer": "ipython3",
   "version": "3.11.7"
  }
 },
 "nbformat": 4,
 "nbformat_minor": 5
}
