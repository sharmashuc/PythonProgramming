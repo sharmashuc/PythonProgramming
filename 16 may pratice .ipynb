{
 "cells": [
  {
   "cell_type": "code",
   "execution_count": 1,
   "id": "980604b9-eeb2-4407-a58a-070a72e13c38",
   "metadata": {},
   "outputs": [
    {
     "name": "stdout",
     "output_type": "stream",
     "text": [
      "Income tax payable: 3000.0\n"
     ]
    }
   ],
   "source": [
    "income = 45000\n",
    "tax = 0\n",
    "if income > 20000:\n",
    "    tax += min(10000, income - 20000) * 0.2\n",
    "    income -= min(10000, income - 20000)\n",
    "if income > 10000:\n",
    "    tax += min(10000, income - 10000) * 0.1\n",
    "    income -= min(10000, income - 10000)\n",
    "if income > 0:\n",
    "    tax += income * 0.0\n",
    "\n",
    "print(\"Income tax payable:\", tax)\n"
   ]
  },
  {
   "cell_type": "code",
   "execution_count": 2,
   "id": "e08db7ee-ec68-486d-837a-8669989d2e79",
   "metadata": {},
   "outputs": [
    {
     "name": "stdin",
     "output_type": "stream",
     "text": [
      "Enter the first angle:  60\n",
      "Enter the second angle:  70\n",
      "Enter the third angle:  80\n"
     ]
    },
    {
     "name": "stdout",
     "output_type": "stream",
     "text": [
      "The angles cannot form a triangle.\n"
     ]
    }
   ],
   "source": [
    "angle1 = float(input(\"Enter the first angle: \"))\n",
    "angle2 = float(input(\"Enter the second angle: \"))\n",
    "angle3 = float(input(\"Enter the third angle: \"))\n",
    "if angle1 + angle2 + angle3 == 180:\n",
    "    print(\"The angles can form a triangle.\")\n",
    "else:\n",
    "    print(\"The angles cannot form a triangle.\")\n",
    "\n",
    "\n",
    "\n"
   ]
  },
  {
   "cell_type": "code",
   "execution_count": 8,
   "id": "954a44c1-893d-4600-8db3-467a7b2c6dd2",
   "metadata": {},
   "outputs": [
    {
     "name": "stdin",
     "output_type": "stream",
     "text": [
      "Enter the temperature:  60\n",
      "Enter the humidity:  70\n"
     ]
    },
    {
     "name": "stdout",
     "output_type": "stream",
     "text": [
      "It's warm and humid.\n"
     ]
    }
   ],
   "source": [
    "temperature = float(input(\"Enter the temperature: \"))\n",
    "humidity = float(input(\"Enter the humidity: \"))\n",
    "if temperature < 0:\n",
    "    if humidity < 50:\n",
    "        print(\"It's cold and dry.\")\n",
    "    else:\n",
    "        print(\"It's cold and humid.\")\n",
    "elif temperature >= 0 and temperature < 15:\n",
    "    if humidity < 50:\n",
    "        print(\"It's cool and dry.\")\n",
    "    else:\n",
    "        print(\"It's cool and humid.\")\n",
    "elif temperature >= 15 and temperature < 25:\n",
    "    if humidity < 50:\n",
    "        print(\"It's moderate and dry.\")\n",
    "    else:\n",
    "        print(\"It's moderate and humid.\")\n",
    "else:\n",
    "    if humidity < 50:\n",
    "        print(\"It's warm and dry.\")\n",
    "    else:\n",
    "        print(\"It's warm and humid.\")\n",
    "\n",
    "\n",
    "\n"
   ]
  },
  {
   "cell_type": "code",
   "execution_count": 15,
   "id": "e9f2f49c-cfdf-4027-a6e7-2d3320a7d77c",
   "metadata": {},
   "outputs": [
    {
     "name": "stdin",
     "output_type": "stream",
     "text": [
      "enter 1 for converting 1cm to ft,2 for converting 83\n"
     ]
    },
    {
     "name": "stdout",
     "output_type": "stream",
     "text": [
      "invalid input\n"
     ]
    }
   ],
   "source": [
    "menu=int(input(\"enter 1 for converting 1cm to ft,2 for converting\"))\n",
    "if menu==1:\n",
    "    cm=float(input(\"enter length in cm:\"))\n",
    "    ft = cm* 0.0328084\n",
    "    print (cm,\"cm is equal to\",ft,\"ft\")\n",
    "elif menu==2:\n",
    "    km=float(input(\"enter is distance to km:\"))\n",
    "    miles = km*0.621371\n",
    "    print(km,\"km is equal to\",miles,\"miles\")\n",
    "elif menu==3:\n",
    "    usd = float(input(\"enter amountin usd:\"))\n",
    "    inr=usd * 83.50\n",
    "    print(usd,\"usd is equal to\",inr,\"INR\")\n",
    "elif menu==4:\n",
    "    print(\"exit\")\n",
    "else:\n",
    "    print(\"invalid input\")\n",
    "             \n",
    "    \n"
   ]
  },
  {
   "cell_type": "code",
   "execution_count": 9,
   "id": "39dd399a-6fb7-4b0d-82a4-d6cf54b91cf8",
   "metadata": {},
   "outputs": [
    {
     "name": "stdout",
     "output_type": "stream",
     "text": [
      "-10\n",
      "-9\n",
      "-8\n",
      "-7\n",
      "-6\n",
      "-5\n",
      "-4\n",
      "-3\n",
      "-2\n",
      "-1\n"
     ]
    }
   ],
   "source": [
    "for num in range(-10, 0):\n",
    "    print(num)\n"
   ]
  },
  {
   "cell_type": "code",
   "execution_count": 10,
   "id": "dc6eda81-8544-4bb2-8dc2-32decd40b19c",
   "metadata": {},
   "outputs": [
    {
     "name": "stdout",
     "output_type": "stream",
     "text": [
      "1\n",
      "2\n",
      "3\n",
      "4\n",
      "5\n",
      "6\n",
      "7\n",
      "8\n",
      "9\n",
      "10\n"
     ]
    }
   ],
   "source": [
    "num = 1\n",
    "while num <= 10:\n",
    "    print(num)\n",
    "    num += 1\n"
   ]
  },
  {
   "cell_type": "code",
   "execution_count": 11,
   "id": "9ef6c5a3-1d7b-444b-ac8a-02e341c9d4d0",
   "metadata": {},
   "outputs": [
    {
     "name": "stdout",
     "output_type": "stream",
     "text": [
      "1 2 3 4 5 Done!\n"
     ]
    }
   ],
   "source": [
    "for num in range(1, 6):\n",
    "    print(num, end=' ')\n",
    "else:\n",
    "    print(\"Done!\")\n"
   ]
  },
  {
   "cell_type": "code",
   "execution_count": 20,
   "id": "fe01b055-cb8a-40e8-b755-10e5e88ffaad",
   "metadata": {},
   "outputs": [
    {
     "name": "stdin",
     "output_type": "stream",
     "text": [
      "enter a number 4\n"
     ]
    },
    {
     "name": "stdout",
     "output_type": "stream",
     "text": [
      "24\n"
     ]
    }
   ],
   "source": [
    "fact=1\n",
    "x=int(input(\"enter a number\"))\n",
    "for i in range(1,x + 1):\n",
    "    fact=fact*int(i)\n",
    "    x=x+i\n",
    "print(fact)        "
   ]
  },
  {
   "cell_type": "code",
   "execution_count": 21,
   "id": "14c190c9-8f00-4e3d-8bd9-db3dd28bb37e",
   "metadata": {},
   "outputs": [
    {
     "name": "stdin",
     "output_type": "stream",
     "text": [
      "enter a number 24\n"
     ]
    },
    {
     "name": "stdout",
     "output_type": "stream",
     "text": [
      "1\n"
     ]
    }
   ],
   "source": [
    "x=int(input(\"enter a number\"))\n",
    "print(1**4)"
   ]
  },
  {
   "cell_type": "code",
   "execution_count": 24,
   "id": "198540f6-c11b-4ead-b546-6faf609177d3",
   "metadata": {},
   "outputs": [
    {
     "name": "stdin",
     "output_type": "stream",
     "text": [
      "Enter the cost price:  20\n",
      "Enter the selling price:  40\n"
     ]
    },
    {
     "name": "stdout",
     "output_type": "stream",
     "text": [
      "Profit: $20.00\n"
     ]
    }
   ],
   "source": [
    "cost_price = float(input(\"Enter the cost price: \"))\n",
    "selling_price = float(input(\"Enter the selling price: \"))\n",
    "if selling_price > cost_price:\n",
    "    profit = selling_price - cost_price\n",
    "    print(f\"Profit: ${profit:.2f}\")\n",
    "elif selling_price < cost_price:\n",
    "    loss = cost_price - selling_price\n",
    "    print(f\"Loss: ${loss:.2f}\")\n",
    "else:\n",
    "    (\"no profit,no loss\")"
   ]
  },
  {
   "cell_type": "code",
   "execution_count": 25,
   "id": "3a562497-ab04-458f-8ede-7ce17cafd106",
   "metadata": {},
   "outputs": [
    {
     "name": "stdout",
     "output_type": "stream",
     "text": [
      "0\n",
      "0\n",
      "1\n",
      "1\n",
      "2\n",
      "3\n",
      "5\n",
      "8\n",
      "13\n",
      "21\n"
     ]
    }
   ],
   "source": [
    "current = 0\n",
    "previous = 0\n",
    "for i in range(10):\n",
    "    print(current)\n",
    "    current += previous\n",
    "    previous = current - previous if current != 0 else 1\n"
   ]
  },
  {
   "cell_type": "code",
   "execution_count": 26,
   "id": "a3a06fe8-7d3d-4ecc-adb6-22e429f50bb8",
   "metadata": {},
   "outputs": [
    {
     "name": "stdout",
     "output_type": "stream",
     "text": [
      "Multiplication Table for 1:\n",
      "1 * 1 = 1\n",
      "1 * 2 = 2\n",
      "1 * 3 = 3\n",
      "1 * 4 = 4\n",
      "1 * 5 = 5\n",
      "1 * 6 = 6\n",
      "1 * 7 = 7\n",
      "1 * 8 = 8\n",
      "1 * 9 = 9\n",
      "1 * 10 = 10\n",
      "\n",
      "Multiplication Table for 2:\n",
      "2 * 1 = 2\n",
      "2 * 2 = 4\n",
      "2 * 3 = 6\n",
      "2 * 4 = 8\n",
      "2 * 5 = 10\n",
      "2 * 6 = 12\n",
      "2 * 7 = 14\n",
      "2 * 8 = 16\n",
      "2 * 9 = 18\n",
      "2 * 10 = 20\n",
      "\n",
      "Multiplication Table for 3:\n",
      "3 * 1 = 3\n",
      "3 * 2 = 6\n",
      "3 * 3 = 9\n",
      "3 * 4 = 12\n",
      "3 * 5 = 15\n",
      "3 * 6 = 18\n",
      "3 * 7 = 21\n",
      "3 * 8 = 24\n",
      "3 * 9 = 27\n",
      "3 * 10 = 30\n",
      "\n",
      "Multiplication Table for 4:\n",
      "4 * 1 = 4\n",
      "4 * 2 = 8\n",
      "4 * 3 = 12\n",
      "4 * 4 = 16\n",
      "4 * 5 = 20\n",
      "4 * 6 = 24\n",
      "4 * 7 = 28\n",
      "4 * 8 = 32\n",
      "4 * 9 = 36\n",
      "4 * 10 = 40\n",
      "\n",
      "Multiplication Table for 5:\n",
      "5 * 1 = 5\n",
      "5 * 2 = 10\n",
      "5 * 3 = 15\n",
      "5 * 4 = 20\n",
      "5 * 5 = 25\n",
      "5 * 6 = 30\n",
      "5 * 7 = 35\n",
      "5 * 8 = 40\n",
      "5 * 9 = 45\n",
      "5 * 10 = 50\n",
      "\n",
      "Multiplication Table for 6:\n",
      "6 * 1 = 6\n",
      "6 * 2 = 12\n",
      "6 * 3 = 18\n",
      "6 * 4 = 24\n",
      "6 * 5 = 30\n",
      "6 * 6 = 36\n",
      "6 * 7 = 42\n",
      "6 * 8 = 48\n",
      "6 * 9 = 54\n",
      "6 * 10 = 60\n",
      "\n",
      "Multiplication Table for 7:\n",
      "7 * 1 = 7\n",
      "7 * 2 = 14\n",
      "7 * 3 = 21\n",
      "7 * 4 = 28\n",
      "7 * 5 = 35\n",
      "7 * 6 = 42\n",
      "7 * 7 = 49\n",
      "7 * 8 = 56\n",
      "7 * 9 = 63\n",
      "7 * 10 = 70\n",
      "\n",
      "Multiplication Table for 8:\n",
      "8 * 1 = 8\n",
      "8 * 2 = 16\n",
      "8 * 3 = 24\n",
      "8 * 4 = 32\n",
      "8 * 5 = 40\n",
      "8 * 6 = 48\n",
      "8 * 7 = 56\n",
      "8 * 8 = 64\n",
      "8 * 9 = 72\n",
      "8 * 10 = 80\n",
      "\n",
      "Multiplication Table for 9:\n",
      "9 * 1 = 9\n",
      "9 * 2 = 18\n",
      "9 * 3 = 27\n",
      "9 * 4 = 36\n",
      "9 * 5 = 45\n",
      "9 * 6 = 54\n",
      "9 * 7 = 63\n",
      "9 * 8 = 72\n",
      "9 * 9 = 81\n",
      "9 * 10 = 90\n",
      "\n",
      "Multiplication Table for 10:\n",
      "10 * 1 = 10\n",
      "10 * 2 = 20\n",
      "10 * 3 = 30\n",
      "10 * 4 = 40\n",
      "10 * 5 = 50\n",
      "10 * 6 = 60\n",
      "10 * 7 = 70\n",
      "10 * 8 = 80\n",
      "10 * 9 = 90\n",
      "10 * 10 = 100\n",
      "\n"
     ]
    }
   ],
   "source": [
    "for i in range(1, 11):\n",
    "    print(f\"Multiplication Table for {i}:\")\n",
    "    for j in range(1, 11):\n",
    "        print(f\"{i} * {j} = {i*j}\")\n",
    "    print() \n"
   ]
  },
  {
   "cell_type": "code",
   "execution_count": 27,
   "id": "f75438a4-4e7b-46cb-9bae-ed7f62dfb741",
   "metadata": {},
   "outputs": [
    {
     "name": "stdout",
     "output_type": "stream",
     "text": [
      "Armstrong numbers in the range of 100 to 1000: [153, 370, 371, 407]\n"
     ]
    }
   ],
   "source": [
    "armstrong_numbers = []\n",
    "for num in range(100, 1000):\n",
    "    order = len(str(num))\n",
    "    sum = 0\n",
    "    temp = num\n",
    "    while temp > 0:\n",
    "        digit = temp % 10\n",
    "        sum += digit ** order\n",
    "        temp //= 10\n",
    "    if num == sum:\n",
    "        armstrong_numbers.append(num)\n",
    "\n",
    "print(\"Armstrong numbers in the range of 100 to 1000:\", armstrong_numbers)\n"
   ]
  },
  {
   "cell_type": "code",
   "execution_count": null,
   "id": "c6d99c5a-e51e-4b02-a608-fe6b49b34a19",
   "metadata": {},
   "outputs": [],
   "source": []
  }
 ],
 "metadata": {
  "kernelspec": {
   "display_name": "Python 3 (ipykernel)",
   "language": "python",
   "name": "python3"
  },
  "language_info": {
   "codemirror_mode": {
    "name": "ipython",
    "version": 3
   },
   "file_extension": ".py",
   "mimetype": "text/x-python",
   "name": "python",
   "nbconvert_exporter": "python",
   "pygments_lexer": "ipython3",
   "version": "3.11.7"
  }
 },
 "nbformat": 4,
 "nbformat_minor": 5
}
