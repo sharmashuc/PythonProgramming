{
 "cells": [
  {
   "cell_type": "code",
   "execution_count": null,
   "id": "fdd0f1ae-79dd-498d-ac6e-bf000698dbf8",
   "metadata": {},
   "outputs": [],
   "source": [
    "#open\n",
    "#read/write\n",
    "#close()"
   ]
  },
  {
   "cell_type": "code",
   "execution_count": 5,
   "id": "6be8ae7e-9373-424f-a7e8-fa0687e94bee",
   "metadata": {},
   "outputs": [
    {
     "name": "stdout",
     "output_type": "stream",
     "text": [
      "hy aman \n",
      "hello\n"
     ]
    }
   ],
   "source": [
    "fileobj = open (\"aman.txt\")\n",
    "x = fileobj.read()\n",
    "fileobj.close()\n",
    "print(x)\n"
   ]
  },
  {
   "cell_type": "code",
   "execution_count": 8,
   "id": "909a655b-8c5f-4daf-94cc-ffd79281c34e",
   "metadata": {},
   "outputs": [
    {
     "name": "stdout",
     "output_type": "stream",
     "text": [
      "hy aman \n",
      "hello\n"
     ]
    }
   ],
   "source": [
    "fileobj = open (\"aman.txt\",\"w\")\n",
    "fileobj.write(\"shuchi\")\n",
    "fileobj.close()\n",
    "print(x)\n"
   ]
  },
  {
   "cell_type": "code",
   "execution_count": 9,
   "id": "928fbb35-982b-47dc-9bec-572ac5af49f1",
   "metadata": {},
   "outputs": [
    {
     "name": "stdout",
     "output_type": "stream",
     "text": [
      "shuchi\n"
     ]
    }
   ],
   "source": [
    "fileobj = open (\"aman.txt\",\"r+\")\n",
    "x = fileobj.read()\n",
    "fileobj.write(\"shuchi\")\n",
    "fileobj.close()\n",
    "\n",
    "print(x)\n"
   ]
  },
  {
   "cell_type": "code",
   "execution_count": 11,
   "id": "32a04114-d30b-419b-853b-877ab5451ae8",
   "metadata": {},
   "outputs": [
    {
     "name": "stdout",
     "output_type": "stream",
     "text": [
      "shuchi\n"
     ]
    }
   ],
   "source": [
    "fileobj = open (\"aman.txt\",\"r+\")\n",
    "fileobj.write(\"shuchi\")\n",
    "x = fileobj.read()\n",
    "fileobj.close()\n",
    "\n",
    "print(x)"
   ]
  },
  {
   "cell_type": "code",
   "execution_count": 12,
   "id": "3c096fd2-3ce5-4b3e-9812-6e5ce7d062be",
   "metadata": {},
   "outputs": [
    {
     "name": "stdout",
     "output_type": "stream",
     "text": [
      "\n"
     ]
    }
   ],
   "source": [
    "fileobj = open (\"aman.txt\",\"w+\")\n",
    "fileobj.write(\"shuchi\")\n",
    "x = fileobj.read()\n",
    "fileobj.close()\n",
    "\n",
    "print(x)"
   ]
  },
  {
   "cell_type": "code",
   "execution_count": 13,
   "id": "f86a75c5-379d-4be9-9473-5a5cc89e99e9",
   "metadata": {},
   "outputs": [
    {
     "name": "stdout",
     "output_type": "stream",
     "text": [
      "\n"
     ]
    }
   ],
   "source": [
    "fileobj = open (\"aman.txt\",\"w+\")\n",
    "x = fileobj.read()\n",
    "fileobj.write(\"shuchi\")\n",
    "fileobj.close()\n",
    "\n",
    "print(x)"
   ]
  },
  {
   "cell_type": "code",
   "execution_count": 14,
   "id": "446eae03-0976-417c-a4ce-d693cf5c133d",
   "metadata": {},
   "outputs": [
    {
     "name": "stdout",
     "output_type": "stream",
     "text": [
      "0\n",
      "write 16\n",
      "\n"
     ]
    }
   ],
   "source": [
    "fileobj = open (\"aman.txt\",\"w+\")\n",
    "print(fileobj.tell() )\n",
    "fileobj.write(\"rajasthan jaipur\")\n",
    "print(\"write\",fileobj.tell() )\n",
    "fileobj.close()\n",
    "\n",
    "print(x)"
   ]
  },
  {
   "cell_type": "code",
   "execution_count": 15,
   "id": "973a757a-f2a5-4d29-b97d-a25a58323f27",
   "metadata": {},
   "outputs": [
    {
     "name": "stdout",
     "output_type": "stream",
     "text": [
      "0\n",
      "write 2\n",
      "\n"
     ]
    }
   ],
   "source": [
    "fileobj = open (\"aman.txt\",\"w+\")\n",
    "print(fileobj.tell() )\n",
    "fileobj.write(\"rajasthan jaipur\")\n",
    "fileobj.seek(2)\n",
    "print(\"write\",fileobj.tell() )\n",
    "fileobj.close()\n",
    "\n",
    "print(x)"
   ]
  },
  {
   "cell_type": "code",
   "execution_count": 16,
   "id": "2a3fe67e-f6ea-4149-80b0-090127b4eec8",
   "metadata": {},
   "outputs": [
    {
     "name": "stdout",
     "output_type": "stream",
     "text": [
      "0\n",
      "write 8\n",
      "\n"
     ]
    }
   ],
   "source": [
    "fileobj = open (\"aman.txt\",\"w+\")\n",
    "print(fileobj.tell() )\n",
    "fileobj.write(\"rajasthan jaipur\")\n",
    "fileobj.seek(8)\n",
    "print(\"write\",fileobj.tell() )\n",
    "fileobj.close()\n",
    "\n",
    "print(x)"
   ]
  },
  {
   "cell_type": "code",
   "execution_count": 17,
   "id": "9144b745-0349-46af-b420-a979a6ff6cb3",
   "metadata": {},
   "outputs": [
    {
     "name": "stdout",
     "output_type": "stream",
     "text": [
      "rajasthan jaipur\n"
     ]
    }
   ],
   "source": [
    "# fileobj = open (\"aman.txt\",\"r+\")\n",
    "with open(\"aman.txt\",\"r\")as fileobj:\n",
    "    out = fileobj.read()\n",
    "print(out)    "
   ]
  },
  {
   "cell_type": "code",
   "execution_count": 20,
   "id": "cdea9c8b-47ff-493a-8e6b-4a2ff7d2ee6a",
   "metadata": {},
   "outputs": [
    {
     "name": "stdout",
     "output_type": "stream",
     "text": [
      "rajasthan jaipur\n",
      "\n"
     ]
    }
   ],
   "source": [
    "with open(\"aman.txt\",\"r\")as fileobj:\n",
    "    print(  fileobj.readline() )\n",
    "    print( fileobj.readline() ) \n",
    "    \n",
    "  "
   ]
  },
  {
   "cell_type": "code",
   "execution_count": 22,
   "id": "ef71068f-fbb9-4343-afd6-d813718a3a54",
   "metadata": {},
   "outputs": [
    {
     "name": "stdout",
     "output_type": "stream",
     "text": [
      "['rajasthan jaipur']\n"
     ]
    }
   ],
   "source": [
    "with open(\"aman.txt\",\"r\")as fileobj:\n",
    "    print(  fileobj.readlines() )"
   ]
  },
  {
   "cell_type": "code",
   "execution_count": 28,
   "id": "e79103f0-efe5-4aee-8571-dcca63d09eac",
   "metadata": {},
   "outputs": [
    {
     "name": "stdout",
     "output_type": "stream",
     "text": [
      "rajasthan jaipur\n"
     ]
    }
   ],
   "source": [
    "with open(\"aman.txt\",\"r\")as fileobj:\n",
    "    for line in fileobj.readlines():\n",
    "       print( line. strip() )"
   ]
  },
  {
   "cell_type": "code",
   "execution_count": 29,
   "id": "9a5a2c53-9143-4010-8d14-6a21aa50e6d8",
   "metadata": {},
   "outputs": [],
   "source": [
    "# a csv\n",
    "# coma seperated values\n",
    "#id,name,email\n",
    "# id$name$email (dsv files)\n"
   ]
  },
  {
   "cell_type": "code",
   "execution_count": 32,
   "id": "06b64b72-ef5d-4bad-ad87-874b38919537",
   "metadata": {},
   "outputs": [
    {
     "name": "stdout",
     "output_type": "stream",
     "text": [
      "tushar,tushar@gmail.com\n",
      "aman,aman@gmail.com\n"
     ]
    }
   ],
   "source": [
    "fileobj = open (\"aman.txt\")\n",
    "x = fileobj.read()\n",
    "fileobj.close()\n",
    "print(x)\n"
   ]
  },
  {
   "cell_type": "code",
   "execution_count": 43,
   "id": "8fd9053c-22db-4eab-960e-1758e42b1e83",
   "metadata": {},
   "outputs": [],
   "source": [
    "import csv "
   ]
  },
  {
   "cell_type": "code",
   "execution_count": 44,
   "id": "032d5a64-9222-4972-b2ec-9fdc30395760",
   "metadata": {},
   "outputs": [
    {
     "name": "stdout",
     "output_type": "stream",
     "text": [
      "1 tushar tushar@gmail.com\n",
      "2 aman aman@gmail.com\n"
     ]
    }
   ],
   "source": [
    "f = open(\"aman.txt\")\n",
    "fileobj = csv.reader(f)\n",
    "for line in fileobj:\n",
    "    ids,name,email=line\n",
    "    print(ids,name,email)"
   ]
  },
  {
   "cell_type": "code",
   "execution_count": 45,
   "id": "aa05a255-edff-4517-a207-0837bdf173f9",
   "metadata": {},
   "outputs": [
    {
     "name": "stdout",
     "output_type": "stream",
     "text": [
      "1 tushar tushar@gmail.com\n",
      "2 aman aman@gmail.com\n"
     ]
    }
   ],
   "source": [
    "with open(\"aman.txt\",\"r\")as fileobj:\n",
    "    for line in fileobj.readlines():\n",
    "        line=line.strip()\n",
    "        x=line.split(\",\")\n",
    "\n",
    "        idd,name,mail=x\n",
    "        print(idd,name,mail)"
   ]
  },
  {
   "cell_type": "code",
   "execution_count": null,
   "id": "7c0c1a86-0441-456c-ba38-a6fbd26a8ce2",
   "metadata": {},
   "outputs": [],
   "source": []
  },
  {
   "cell_type": "code",
   "execution_count": null,
   "id": "221b0f7e-35b3-4e44-a8b6-f1691ac2c3b7",
   "metadata": {},
   "outputs": [],
   "source": []
  }
 ],
 "metadata": {
  "kernelspec": {
   "display_name": "Python 3 (ipykernel)",
   "language": "python",
   "name": "python3"
  },
  "language_info": {
   "codemirror_mode": {
    "name": "ipython",
    "version": 3
   },
   "file_extension": ".py",
   "mimetype": "text/x-python",
   "name": "python",
   "nbconvert_exporter": "python",
   "pygments_lexer": "ipython3",
   "version": "3.11.7"
  }
 },
 "nbformat": 4,
 "nbformat_minor": 5
}
