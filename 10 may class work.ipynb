{
 "cells": [
  {
   "cell_type": "code",
   "execution_count": 7,
   "id": "a6cc766b-f9cd-4c66-b1c4-e87bec3166b7",
   "metadata": {},
   "outputs": [
    {
     "name": "stdout",
     "output_type": "stream",
     "text": [
      "55\n"
     ]
    }
   ],
   "source": [
    "sum=0\n",
    "for i in range(1,11):\n",
    "    sum=sum+i\n",
    "print(sum)\n",
    "    \n",
    "\n"
   ]
  },
  {
   "cell_type": "code",
   "execution_count": 9,
   "id": "87c8fcbd-e38a-4ad4-ae5b-290eba0138fe",
   "metadata": {},
   "outputs": [
    {
     "name": "stdout",
     "output_type": "stream",
     "text": [
      "h\n",
      "e\n",
      "l\n",
      "l\n",
      "o\n"
     ]
    }
   ],
   "source": [
    "for j in \"hello\":\n",
    "    print(j)"
   ]
  },
  {
   "cell_type": "code",
   "execution_count": 11,
   "id": "f3036672-d82d-4df0-b083-ddef259269b2",
   "metadata": {},
   "outputs": [
    {
     "data": {
      "text/plain": [
       "5"
      ]
     },
     "execution_count": 11,
     "metadata": {},
     "output_type": "execute_result"
    }
   ],
   "source": [
    "data=\"hello\"\n",
    "len(\"hello\")"
   ]
  },
  {
   "cell_type": "code",
   "execution_count": 13,
   "id": "6b2ae648-299f-4795-8444-d293d7f091d5",
   "metadata": {},
   "outputs": [
    {
     "name": "stdout",
     "output_type": "stream",
     "text": [
      "0 hello h\n",
      "1 hello e\n",
      "2 hello l\n",
      "3 hello l\n",
      "4 hello o\n"
     ]
    }
   ],
   "source": [
    "for index in range(0,5):\n",
    "    print(index,data,data[index])\n",
    "    "
   ]
  },
  {
   "cell_type": "code",
   "execution_count": 14,
   "id": "f0de9d54-aae9-4269-b9ba-d0e8e20e7146",
   "metadata": {},
   "outputs": [
    {
     "name": "stdout",
     "output_type": "stream",
     "text": [
      "total amount: 1150\n"
     ]
    }
   ],
   "source": [
    "x=70\n",
    "total=0\n",
    "if(x>=10):\n",
    "    total=10*50\n",
    "    x=x-10\n",
    "if(x>=20):\n",
    "    total=total+20*20\n",
    "    x=x-20\n",
    "if(x>=10):\n",
    "    total=total+10*10\n",
    "    x=x-10\n",
    "if(x>=5):\n",
    "    total=total+x*5\n",
    "\n",
    "print(\"total amount:\",total)\n",
    "    \n",
    "\n"
   ]
  },
  {
   "cell_type": "code",
   "execution_count": null,
   "id": "9c386362-0e48-47dc-9c6a-8e6409a91490",
   "metadata": {},
   "outputs": [],
   "source": []
  }
 ],
 "metadata": {
  "kernelspec": {
   "display_name": "Python 3 (ipykernel)",
   "language": "python",
   "name": "python3"
  },
  "language_info": {
   "codemirror_mode": {
    "name": "ipython",
    "version": 3
   },
   "file_extension": ".py",
   "mimetype": "text/x-python",
   "name": "python",
   "nbconvert_exporter": "python",
   "pygments_lexer": "ipython3",
   "version": "3.11.7"
  }
 },
 "nbformat": 4,
 "nbformat_minor": 5
}
