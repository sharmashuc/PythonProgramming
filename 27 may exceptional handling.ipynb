{
 "cells": [
  {
   "cell_type": "code",
   "execution_count": 8,
   "id": "f3a798c2-4886-457a-9150-ce03c54e0af5",
   "metadata": {},
   "outputs": [],
   "source": [
    "# exceptional handling \n",
    "# exception ==>  unwanted condition (affect ho skti haii)\n",
    "# error : terminate (handle hoti haii)"
   ]
  },
  {
   "cell_type": "code",
   "execution_count": 1,
   "id": "f9872814-cb1b-48c0-acc3-bd450a324d2c",
   "metadata": {},
   "outputs": [
    {
     "name": "stdout",
     "output_type": "stream",
     "text": [
      "hello\n",
      "Exception class handled the error\n"
     ]
    }
   ],
   "source": [
    "# exception handling\n",
    "try:\n",
    "    print(\"hello\")\n",
    "    x=\"abc\"\n",
    "    x[4]\n",
    "    print(\"hey\")\n",
    "except (ZeroDivisionError,NameError) as e:\n",
    "    print(\"error handled : \",e)\n",
    "\n",
    "except Exception:\n",
    "    print(\"Exception class handled the error\")"
   ]
  },
  {
   "cell_type": "code",
   "execution_count": 5,
   "id": "3f7dd8af-ac12-4a99-803f-fc6d317f0a70",
   "metadata": {},
   "outputs": [
    {
     "name": "stdout",
     "output_type": "stream",
     "text": [
      "hello\n",
      "Error of index to be handled\n",
      "hey\n"
     ]
    }
   ],
   "source": [
    "try:\n",
    "    print(\"hello\")\n",
    "    x=\"abc\"\n",
    "    try:\n",
    "        x[4]\n",
    "    except:  \n",
    "        print(\"Error of index to be handled\")\n",
    "\n",
    "    print(\"hey\")\n",
    "except (ZeroDivisionError,NameError) as e:\n",
    "      print(\"error handled : \",e)"
   ]
  },
  {
   "cell_type": "code",
   "execution_count": 6,
   "id": "73ba2115-58ca-4e99-9de6-c5d448527a5d",
   "metadata": {},
   "outputs": [
    {
     "name": "stdout",
     "output_type": "stream",
     "text": [
      "hello\n",
      "error handled :  division by zero\n"
     ]
    }
   ],
   "source": [
    "try:\n",
    "    print(\"hello\")\n",
    "    10/0\n",
    "    print(\"hey\")\n",
    "except (ZeroDivisionError,NameError) as e:\n",
    "      print(\"error handled : \",e)\n",
    "else:\n",
    "    print(\"Else part is exceuted\")"
   ]
  },
  {
   "cell_type": "code",
   "execution_count": 8,
   "id": "c7e1eae7-7a10-4e6e-9960-baba1bc805df",
   "metadata": {},
   "outputs": [
    {
     "name": "stdout",
     "output_type": "stream",
     "text": [
      "hello\n",
      "error handled :  division by zero\n",
      "Finally is exceuted\n"
     ]
    }
   ],
   "source": [
    "try:\n",
    "    print(\"hello\")\n",
    "    10/0\n",
    "    print(\"hey\")\n",
    "except (ZeroDivisionError,NameError) as e:\n",
    "      print(\"error handled : \",e)\n",
    "finally:\n",
    "    print(\"Finally is exceuted\")"
   ]
  },
  {
   "cell_type": "code",
   "execution_count": 13,
   "id": "d7af88e5-aa82-47d1-9618-480748f37406",
   "metadata": {},
   "outputs": [],
   "source": [
    "# reduce"
   ]
  },
  {
   "cell_type": "code",
   "execution_count": 12,
   "id": "d15669da-7897-4c60-8b4e-fc0012299177",
   "metadata": {},
   "outputs": [
    {
     "data": {
      "text/plain": [
       "22000"
      ]
     },
     "execution_count": 12,
     "metadata": {},
     "output_type": "execute_result"
    }
   ],
   "source": [
    "from functools import reduce\n",
    "reduce(lambda x,y:x*y,[11,10,10,20])"
   ]
  },
  {
   "cell_type": "code",
   "execution_count": 16,
   "id": "fb984765-ca7f-4c5c-811e-2ea79f4b2902",
   "metadata": {},
   "outputs": [
    {
     "data": {
      "text/plain": [
       "[10, 10, 20]"
      ]
     },
     "execution_count": 16,
     "metadata": {},
     "output_type": "execute_result"
    }
   ],
   "source": [
    "list(filter(lambda x: x%10==0,[11,10,10,20]))"
   ]
  },
  {
   "cell_type": "code",
   "execution_count": 27,
   "id": "f850a065-8651-4b2f-83ff-e40eb97e9ae5",
   "metadata": {},
   "outputs": [
    {
     "data": {
      "text/plain": [
       "1540000"
      ]
     },
     "execution_count": 27,
     "metadata": {},
     "output_type": "execute_result"
    }
   ],
   "source": [
    "from functools import reduce\n",
    "reduce(lambda x,y:x*y,[11,50,40,70])"
   ]
  },
  {
   "cell_type": "code",
   "execution_count": 26,
   "id": "9dbd9084-a0db-4a4e-9060-68a84f65a6c2",
   "metadata": {},
   "outputs": [],
   "source": [
    "class house:\n",
    "    colour=\"white\"\n",
    "    room =4"
   ]
  },
  {
   "cell_type": "code",
   "execution_count": 28,
   "id": "2b16cb54-76dd-459c-ade8-7a4b8b105835",
   "metadata": {},
   "outputs": [
    {
     "data": {
      "text/plain": [
       "57000"
      ]
     },
     "execution_count": 28,
     "metadata": {},
     "output_type": "execute_result"
    }
   ],
   "source": [
    "from functools import reduce\n",
    "reduce(lambda x,y:x*y,[15,19,10,20])"
   ]
  },
  {
   "cell_type": "code",
   "execution_count": 29,
   "id": "0662da20-3f45-4245-a66d-ed0e370c859c",
   "metadata": {},
   "outputs": [],
   "source": [
    "class house:\n",
    "    colour = \"white\"\n",
    "    room=4"
   ]
  },
  {
   "cell_type": "code",
   "execution_count": 30,
   "id": "60211f2a-7676-4728-bc59-d5a530d78918",
   "metadata": {},
   "outputs": [
    {
     "name": "stdout",
     "output_type": "stream",
     "text": [
      "white\n"
     ]
    }
   ],
   "source": [
    "#object\n",
    "h1 = house()\n",
    "print(h1.colour)"
   ]
  },
  {
   "cell_type": "code",
   "execution_count": null,
   "id": "03f0b94e-c218-4d9a-b4a7-d4ad4b65d6a6",
   "metadata": {},
   "outputs": [],
   "source": []
  }
 ],
 "metadata": {
  "kernelspec": {
   "display_name": "Python 3 (ipykernel)",
   "language": "python",
   "name": "python3"
  },
  "language_info": {
   "codemirror_mode": {
    "name": "ipython",
    "version": 3
   },
   "file_extension": ".py",
   "mimetype": "text/x-python",
   "name": "python",
   "nbconvert_exporter": "python",
   "pygments_lexer": "ipython3",
   "version": "3.11.7"
  }
 },
 "nbformat": 4,
 "nbformat_minor": 5
}
