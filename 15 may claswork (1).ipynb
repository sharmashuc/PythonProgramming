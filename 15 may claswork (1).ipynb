{
 "cells": [
  {
   "cell_type": "code",
   "execution_count": 1,
   "id": "c8dc7c0a-799a-4173-9574-2e3e71614028",
   "metadata": {},
   "outputs": [
    {
     "name": "stdout",
     "output_type": "stream",
     "text": [
      "enter the value of a 20\n",
      "enter the value of b 10\n",
      "enter the swap value of a 10\n",
      "enter the swap value of b 20\n"
     ]
    }
   ],
   "source": [
    "a=20\n",
    "b=10\n",
    "print(\"enter the value of a\",a)\n",
    "print(\"enter the value of b\",b)\n",
    "a=a+b\n",
    "b=a-b\n",
    "a=a-b\n",
    "print(\"enter the swap value of a\",a)\n",
    "print(\"enter the swap value of b\",b)\n"
   ]
  },
  {
   "cell_type": "code",
   "execution_count": 2,
   "id": "0039d0b2-9874-4e44-b7bf-4638e9b4dbb5",
   "metadata": {},
   "outputs": [
    {
     "name": "stdout",
     "output_type": "stream",
     "text": [
      "6357\n"
     ]
    }
   ],
   "source": [
    "n=7536\n",
    "sum=0\n",
    "while n>0:\n",
    "  rem=n%10\n",
    "  sum=sum*10+rem\n",
    "  n=n//10\n",
    "print(sum)\n"
   ]
  },
  {
   "cell_type": "code",
   "execution_count": 3,
   "id": "643a1643-897f-4a87-9617-e00ad0abec8e",
   "metadata": {},
   "outputs": [
    {
     "name": "stdout",
     "output_type": "stream",
     "text": [
      "6\n"
     ]
    }
   ],
   "source": [
    "a=\"123\"\n",
    "sum=0\n",
    "for i in a:\n",
    "    sum=sum+int(i)\n",
    "print(sum)    \n",
    "\n"
   ]
  },
  {
   "cell_type": "code",
   "execution_count": 4,
   "id": "5abd8229-fe4b-4bed-a8a9-f9e6d97ba30f",
   "metadata": {},
   "outputs": [
    {
     "name": "stdin",
     "output_type": "stream",
     "text": [
      "enter a number:  21\n",
      "enter a number: 22\n",
      "enter a number: 23\n"
     ]
    }
   ],
   "source": [
    "a=int(input(\"enter a number: \"))\n",
    "b=int(input(\"enter a number:\"))\n",
    "c=int(input(\"enter a number:\"))\n",
    "s1=a**2\n",
    "s2=b**2\n",
    "s3=c**2\n",
    "add = s1+s2+s3\n"
   ]
  },
  {
   "cell_type": "code",
   "execution_count": 5,
   "id": "f277d553-457c-4fb3-ae14-acce0de1c80c",
   "metadata": {},
   "outputs": [
    {
     "name": "stdout",
     "output_type": "stream",
     "text": [
      "armstrong\n"
     ]
    }
   ],
   "source": [
    "a=153\n",
    "temp=a\n",
    "sum=0\n",
    "while a>0:\n",
    "    rem=a%10\n",
    "    sum=sum+rem*rem*rem\n",
    "    a=a//10\n",
    "if(temp==sum):\n",
    "    print(\"armstrong\")\n",
    "else:\n",
    "    (\"not\")"
   ]
  },
  {
   "cell_type": "code",
   "execution_count": null,
   "id": "5ed9c45b-f1eb-4474-bfd1-7195122ad7af",
   "metadata": {},
   "outputs": [
    {
     "name": "stdin",
     "output_type": "stream",
     "text": [
      "enter a number 153\n"
     ]
    }
   ],
   "source": [
    "x=int (input(\"enter a number\"))\n",
    "x= 5678\n",
    "temp=x\n",
    "sum=0\n",
    "while x>0:\n",
    "    rem=n%10\n",
    "    sum=sum+rem*rem*rem*rem\n",
    "    n=x//10\n",
    "if(temp==sum):\n",
    "    print(\"narcissist\")\n",
    "else:\n",
    "    (\"not\")"
   ]
  },
  {
   "cell_type": "code",
   "execution_count": null,
   "id": "66d64d63-8450-41ca-857e-bded84acfeeb",
   "metadata": {},
   "outputs": [],
   "source": [
    "number = 1.2345\n",
    "round(number, 2)\n",
    "print(rounded_number)\n"
   ]
  },
  {
   "cell_type": "code",
   "execution_count": null,
   "id": "c3077801-4ce9-438e-b52c-c648391cc641",
   "metadata": {},
   "outputs": [],
   "source": [
    "number = int(input(\"Enter a number: \"))\n",
    "factors = []\n",
    "    for i in range(1, n + 1):\n",
    "        if n % i == 0:\n",
    "            factors.append(i)\n",
    "print(factors)            "
   ]
  },
  {
   "cell_type": "code",
   "execution_count": null,
   "id": "391b8a21-0a9e-46d5-a88b-d2ff0a7558ac",
   "metadata": {},
   "outputs": [],
   "source": []
  }
 ],
 "metadata": {
  "kernelspec": {
   "display_name": "Python 3 (ipykernel)",
   "language": "python",
   "name": "python3"
  },
  "language_info": {
   "codemirror_mode": {
    "name": "ipython",
    "version": 3
   },
   "file_extension": ".py",
   "mimetype": "text/x-python",
   "name": "python",
   "nbconvert_exporter": "python",
   "pygments_lexer": "ipython3",
   "version": "3.11.7"
  }
 },
 "nbformat": 4,
 "nbformat_minor": 5
}
