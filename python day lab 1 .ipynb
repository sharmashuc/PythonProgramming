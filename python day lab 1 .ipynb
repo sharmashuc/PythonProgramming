{
 "cells": [
  {
   "cell_type": "code",
   "execution_count": 1,
   "id": "c50acd75-6ca8-4767-8d8f-b66afa50ab72",
   "metadata": {},
   "outputs": [
    {
     "name": "stdin",
     "output_type": "stream",
     "text": [
      "Enter your name:  shuchi\n"
     ]
    },
    {
     "name": "stdout",
     "output_type": "stream",
     "text": [
      "Hello, shuchi\n"
     ]
    }
   ],
   "source": [
    "# Input your name into a variable called $name and then print \"Hello, <your name here>\".\n",
    "name = input(\"Enter your name: \")\n",
    "print(\"Hello,\", name)\n"
   ]
  },
  {
   "cell_type": "code",
   "execution_count": 6,
   "id": "089330b7-76d7-473a-b324-3472e19565d0",
   "metadata": {},
   "outputs": [
    {
     "name": "stdin",
     "output_type": "stream",
     "text": [
      " Enter the first number:  12\n",
      " Enter the second number:  34\n"
     ]
    },
    {
     "name": "stdout",
     "output_type": "stream",
     "text": [
      "The sum is positive.\n"
     ]
    }
   ],
   "source": [
    "    num1 = float(input(\" Enter the first number: \")) \n",
    "    num2 = float(input(\" Enter the second number: \"))\n",
    "    sum = num1 + num2\n",
    "    if sum > 0:\n",
    "        print(\"The sum is positive.\")\n",
    "    elif sum < 0:\n",
    "        print(\"The sum is negative.\")\n",
    "    else:\n",
    "        print(\"The sum is zero.\")\n",
    "\n",
    "\n",
    "   \n"
   ]
  },
  {
   "cell_type": "code",
   "execution_count": 3,
   "id": "53644313-cb1f-4b5f-a7e8-74de4dcaaedb",
   "metadata": {},
   "outputs": [
    {
     "name": "stdin",
     "output_type": "stream",
     "text": [
      "Enter the correct number:  45\n"
     ]
    },
    {
     "name": "stdout",
     "output_type": "stream",
     "text": [
      "Incorrect! Try again.\n"
     ]
    },
    {
     "name": "stdin",
     "output_type": "stream",
     "text": [
      "Enter the correct number:  42\n"
     ]
    },
    {
     "name": "stdout",
     "output_type": "stream",
     "text": [
      "Correct!\n"
     ]
    }
   ],
   "source": [
    " correct_number = 42\n",
    " while True:\n",
    "        try:\n",
    "            user_input = int(input(\"Enter the correct number: \"))\n",
    "            if user_input == correct_number:\n",
    "                print(\"Correct!\")\n",
    "                break  \n",
    "            else:\n",
    "                print(\"Incorrect! Try again.\")\n",
    "        except ValueError:\n",
    "            print(\"Please enter a valid integer.\")\n"
   ]
  },
  {
   "cell_type": "code",
   "execution_count": 4,
   "id": "9b4d95e5-8a91-4a40-9d22-75a9d8d5df0f",
   "metadata": {},
   "outputs": [
    {
     "name": "stdin",
     "output_type": "stream",
     "text": [
      "Enter your first name:  shuchi\n",
      "Enter your last name:  sharma\n"
     ]
    },
    {
     "name": "stdout",
     "output_type": "stream",
     "text": [
      "Full name: shuchi.sharma\n"
     ]
    }
   ],
   "source": [
    "firstname = input(\"Enter your first name: \")\n",
    "lastname = input(\"Enter your last name: \")\n",
    "wholename = firstname + '.' + lastname\n",
    "print(\"Full name:\", wholename)\n"
   ]
  },
  {
   "cell_type": "code",
   "execution_count": 8,
   "id": "38e4500b-1a03-4a47-b904-7e1d1f93a988",
   "metadata": {},
   "outputs": [
    {
     "name": "stdin",
     "output_type": "stream",
     "text": [
      "Enter a string:  42\n"
     ]
    },
    {
     "name": "stdout",
     "output_type": "stream",
     "text": [
      "Toggled string: 42\n"
     ]
    }
   ],
   "source": [
    "input_string = input(\"Enter a string: \")\n",
    "toggled_string = input_string.swapcase()\n",
    "print(\"Toggled string:\", toggled_string)\n"
   ]
  },
  {
   "cell_type": "code",
   "execution_count": 17,
   "id": "1e2d6de0-b183-469b-8984-9db4876fb48b",
   "metadata": {},
   "outputs": [
    {
     "name": "stdout",
     "output_type": "stream",
     "text": [
      "****\n",
      "*********\n",
      "*******\n"
     ]
    }
   ],
   "source": [
    "def histogram(numbers):\n",
    "    for num in numbers:\n",
    "        print('*' * num)\n",
    "\n",
    "# Example usage:\n",
    "histogram([4, 9, 7])\n"
   ]
  },
  {
   "cell_type": "code",
   "execution_count": 19,
   "id": "32aa1699-1c6e-4910-95e0-9f576ddb90f4",
   "metadata": {},
   "outputs": [
    {
     "name": "stdout",
     "output_type": "stream",
     "text": [
      "Athletes who participated only in 100m race: {'John', 'Rajesh', 'Vikay', 'Vaihai'}\n",
      "Athletes who participated only in 200m race: {'Petter', 'Priyanka', 'Vetry'}\n",
      "Athletes who participated both in 100m and 200m race: {'Malar', 'Kumar'}\n",
      "Athletes who participated only in one race: {'John', 'Rajesh', 'Petter', 'Priyanka', 'Vikay', 'Vaihai', 'Vetry'}\n"
     ]
    }
   ],
   "source": [
    "hundred_meters = ['Vikay', 'John', 'Kumar', 'Rajesh', 'Malar', 'Vaihai']\n",
    "two_hundred_meters = ['Vetry', 'Petter', 'Priyanka', 'Kumar', 'Malar']\n",
    "\n",
    "# Convert lists to sets for easier manipulation\n",
    "hundred_meters_set = set(hundred_meters)\n",
    "two_hundred_meters_set = set(two_hundred_meters)\n",
    "\n",
    "# a. Athletes who participated only in 100m race\n",
    "only_100m = hundred_meters_set - two_hundred_meters_set\n",
    "\n",
    "# b. Athletes who participated only in 200m race\n",
    "only_200m = two_hundred_meters_set - hundred_meters_set\n",
    "\n",
    "# c. Athletes who participated both in 100m and 200m race\n",
    "both_races = hundred_meters_set & two_hundred_meters_set\n",
    "\n",
    "# d. Athletes who participated only in one race\n",
    "only_one_race = only_100m.union(only_200m)\n",
    "\n",
    "# Print the results\n",
    "print(\"Athletes who participated only in 100m race:\", only_100m)\n",
    "print(\"Athletes who participated only in 200m race:\", only_200m)\n",
    "print(\"Athletes who participated both in 100m and 200m race:\", both_races)\n",
    "print(\"Athletes who participated only in one race:\", only_one_race)\n"
   ]
  },
  {
   "cell_type": "code",
   "execution_count": 20,
   "id": "39c8dba1-fbda-4271-bb63-2b9a89041356",
   "metadata": {},
   "outputs": [
    {
     "name": "stdout",
     "output_type": "stream",
     "text": [
      "Duplicate numbers: [5, 8, 18, 3]\n"
     ]
    }
   ],
   "source": [
    "list_numbers = [5, 8, 4, 18, 8, 55, 6, 8, 3, 18, 5, 3, 44]\n",
    "count_dict = {}\n",
    "for num in list_numbers:\n",
    "    if num in count_dict:\n",
    "        count_dict[num] += 1\n",
    "    else:\n",
    "        count_dict[num] = 1\n",
    "duplicate_numbers = [num for num, count in count_dict.items() if count > 1]\n",
    "\n",
    "print(\"Duplicate numbers:\", duplicate_numbers)\n"
   ]
  },
  {
   "cell_type": "code",
   "execution_count": 21,
   "id": "ef58f6db-79a2-4073-a755-bf615580ab3c",
   "metadata": {},
   "outputs": [
    {
     "name": "stdout",
     "output_type": "stream",
     "text": [
      "Reversed list: ['snack', 'crocodile', 'zebra', 'lion', 'tiger', 'cat']\n"
     ]
    }
   ],
   "source": [
    "original_list = [\"cat\", \"tiger\", \"lion\", \"zebra\", \"crocodile\", \"snack\"]\n",
    "reversed_list = []\n",
    "for i in range(len(original_list) - 1, -1, -1):\n",
    "    reversed_list.append(original_list[i])\n",
    "\n",
    "print(\"Reversed list:\", reversed_list)\n"
   ]
  },
  {
   "cell_type": "code",
   "execution_count": null,
   "id": "5319d2c7-1c8f-49ed-a7d5-9eefb3f03953",
   "metadata": {},
   "outputs": [],
   "source": []
  }
 ],
 "metadata": {
  "kernelspec": {
   "display_name": "Python 3 (ipykernel)",
   "language": "python",
   "name": "python3"
  },
  "language_info": {
   "codemirror_mode": {
    "name": "ipython",
    "version": 3
   },
   "file_extension": ".py",
   "mimetype": "text/x-python",
   "name": "python",
   "nbconvert_exporter": "python",
   "pygments_lexer": "ipython3",
   "version": "3.11.7"
  }
 },
 "nbformat": 4,
 "nbformat_minor": 5
}
