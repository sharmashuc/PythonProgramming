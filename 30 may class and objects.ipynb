{
 "cells": [
  {
   "cell_type": "code",
   "execution_count": 3,
   "id": "9cb86e18-ec76-4f37-9997-d86221d8a9d1",
   "metadata": {},
   "outputs": [
    {
     "name": "stdout",
     "output_type": "stream",
     "text": [
      "1\n",
      "2\n"
     ]
    }
   ],
   "source": [
    "class test:\n",
    "    count=0\n",
    "    def __init__(self):\n",
    "        test.count +=1\n",
    "t1=test()\n",
    "print(t1.count)\n",
    "\n",
    "t2=test()\n",
    "print(t2.count)"
   ]
  },
  {
   "cell_type": "code",
   "execution_count": 5,
   "id": "439aa2fe-226d-4941-a452-1c61abb6e049",
   "metadata": {},
   "outputs": [
    {
     "data": {
      "text/plain": [
       "500"
      ]
     },
     "execution_count": 5,
     "metadata": {},
     "output_type": "execute_result"
    }
   ],
   "source": [
    "#base class / super class/ parent class\n",
    "class father:\n",
    "    amount=500\n",
    "#derived / sub class/ child class\n",
    "class son(father):\n",
    "    salary=200\n",
    "s1=son()\n",
    "s1.amount\n"
   ]
  },
  {
   "cell_type": "code",
   "execution_count": 6,
   "id": "957b333b-e8b3-40d1-8bf1-3076d8cca1cb",
   "metadata": {},
   "outputs": [
    {
     "name": "stdout",
     "output_type": "stream",
     "text": [
      "500\n",
      "200\n"
     ]
    }
   ],
   "source": [
    "#base class / super class/ parent class\n",
    "class father:\n",
    "    amount=500\n",
    "#derived / sub class/ child class\n",
    "class son(father):\n",
    "    salary=200\n",
    "s1=son()\n",
    "print(s1.amount)\n",
    "print(s1.salary)\n"
   ]
  },
  {
   "cell_type": "code",
   "execution_count": null,
   "id": "9c49ca48-503b-40a9-a8e4-f74ee1cf7b4d",
   "metadata": {},
   "outputs": [],
   "source": [
    "# driver : id,name,email\n",
    "# customer: id,name,email,wallet"
   ]
  },
  {
   "cell_type": "code",
   "execution_count": 22,
   "id": "1963c7a5-2431-4fc1-9389-e51fa803fc92",
   "metadata": {},
   "outputs": [
    {
     "name": "stdout",
     "output_type": "stream",
     "text": [
      "ujjwal\n"
     ]
    }
   ],
   "source": [
    "class driver:\n",
    "    def __init__(self,id,name,email):\n",
    "        self.id=id\n",
    "        self.name=name\n",
    "        self.email=email\n",
    "    def info(self):\n",
    "        print(self.id,self.name,self.email)\n",
    "\n",
    "d1=driver(10,\"ujjwal\",\"ujjwal@gmail.com\")\n",
    "print(d1.name)"
   ]
  },
  {
   "cell_type": "code",
   "execution_count": 12,
   "id": "d2b24bce-f542-4c58-9034-10e365a58ed1",
   "metadata": {},
   "outputs": [
    {
     "name": "stdout",
     "output_type": "stream",
     "text": [
      "naina 20 naina@gmail.com\n"
     ]
    }
   ],
   "source": [
    "class customer(driver):\n",
    "    def __init__(self,cid,cname,cemail):\n",
    "        super().__init__(cid,cname,cemail)\n",
    "\n",
    "c1=customer(20,\"naina\",\"naina@gmail.com\")\n",
    "print(c1.name,c1.id,c1.email)\n",
    "    "
   ]
  },
  {
   "cell_type": "code",
   "execution_count": 16,
   "id": "9545b28b-9c4c-414a-a41e-4e71fe1f3f3e",
   "metadata": {},
   "outputs": [
    {
     "name": "stdout",
     "output_type": "stream",
     "text": [
      "naina 20 naina@gmail.com 90\n"
     ]
    }
   ],
   "source": [
    "class customer(driver):\n",
    "    def __init__(self,id,name,email,wallet):\n",
    "        super().__init__(id,name,email)\n",
    "        self.wallet=wallet\n",
    "\n",
    "c1=customer(20,\"naina\",\"naina@gmail.com\",90)\n",
    "print(c1.name,c1.id,c1.email,c1.wallet)\n",
    "    "
   ]
  },
  {
   "cell_type": "code",
   "execution_count": 17,
   "id": "64ffce1c-adfe-4560-815e-e725308591eb",
   "metadata": {},
   "outputs": [
    {
     "name": "stdout",
     "output_type": "stream",
     "text": [
      "ujjwal\n"
     ]
    }
   ],
   "source": [
    "class customer(driver):\n",
    "    def __init__(self,id,name,email,wallet):\n",
    "        super().__init__(id,name,email)\n",
    "        self.wallet=wallet\n",
    "   \n",
    "c1=customer(20,\"naina\",\"naina@gmail.com\",90)\n",
    "print(d1.name)\n",
    "    "
   ]
  },
  {
   "cell_type": "code",
   "execution_count": 23,
   "id": "3eb30f55-f7ca-45bc-b16f-8c5c8e089eb4",
   "metadata": {},
   "outputs": [
    {
     "name": "stdout",
     "output_type": "stream",
     "text": [
      "20 naina naina@gmail.com\n"
     ]
    }
   ],
   "source": [
    "class customer(driver):\n",
    "    def __init__(self,id,name,email,wallet):\n",
    "        super().__init__(id,name,email)\n",
    "        self.wallet=wallet\n",
    "    def cinfo(self):\n",
    "        super().info()  \n",
    "\n",
    "c1=customer(20,\"naina\",\"naina@gmail.com\",90)\n",
    "c1.cinfo()\n",
    "    "
   ]
  },
  {
   "cell_type": "code",
   "execution_count": null,
   "id": "1e92885b-7dc3-45af-b4ad-1489a2f4f272",
   "metadata": {},
   "outputs": [],
   "source": []
  }
 ],
 "metadata": {
  "kernelspec": {
   "display_name": "Python 3 (ipykernel)",
   "language": "python",
   "name": "python3"
  },
  "language_info": {
   "codemirror_mode": {
    "name": "ipython",
    "version": 3
   },
   "file_extension": ".py",
   "mimetype": "text/x-python",
   "name": "python",
   "nbconvert_exporter": "python",
   "pygments_lexer": "ipython3",
   "version": "3.11.7"
  }
 },
 "nbformat": 4,
 "nbformat_minor": 5
}
