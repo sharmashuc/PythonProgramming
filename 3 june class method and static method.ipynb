{
 "cells": [
  {
   "cell_type": "code",
   "execution_count": 1,
   "id": "8392d5a6-5ad7-49f0-a4d3-43c8331a4d14",
   "metadata": {},
   "outputs": [],
   "source": [
    "# decorator : we keep on the change the exhaustion of a function\n",
    "# bina code mai changes kre"
   ]
  },
  {
   "cell_type": "code",
   "execution_count": 2,
   "id": "1e2fdc8f-7d39-4b09-b060-c39906409297",
   "metadata": {},
   "outputs": [
    {
     "data": {
      "text/plain": [
       "100"
      ]
     },
     "execution_count": 2,
     "metadata": {},
     "output_type": "execute_result"
    }
   ],
   "source": [
    "# staticmethod\n",
    "class student:\n",
    "    @property\n",
    "    def salary(self):\n",
    "        return 100\n",
    "\n",
    "s1=student()\n",
    "s1.salary\n",
    "    \n"
   ]
  },
  {
   "cell_type": "code",
   "execution_count": 5,
   "id": "01b476b2-989b-4c6c-a477-624bcb85de5b",
   "metadata": {},
   "outputs": [
    {
     "data": {
      "text/plain": [
       "<function __main__.student.salary()>"
      ]
     },
     "execution_count": 5,
     "metadata": {},
     "output_type": "execute_result"
    }
   ],
   "source": [
    "class student:\n",
    "    @staticmethod\n",
    "    def salary():\n",
    "        return 100\n",
    "\n",
    "s1=student()\n",
    "student.salary()\n",
    "s1.salary\n",
    "\n",
    "    \n"
   ]
  },
  {
   "cell_type": "code",
   "execution_count": 6,
   "id": "c6a2ce76-de5f-47c8-9b5d-f4d3d62b276b",
   "metadata": {},
   "outputs": [
    {
     "data": {
      "text/plain": [
       "0"
      ]
     },
     "execution_count": 6,
     "metadata": {},
     "output_type": "execute_result"
    }
   ],
   "source": [
    "class student:\n",
    "    amount=0\n",
    "    \n",
    "    @staticmethod\n",
    "    def salary():\n",
    "        student.amount=1\n",
    "\n",
    "s1=student()\n",
    "student.amount"
   ]
  },
  {
   "cell_type": "code",
   "execution_count": 7,
   "id": "51b16a42-db0e-4f77-aa71-bb79b498258e",
   "metadata": {},
   "outputs": [
    {
     "data": {
      "text/plain": [
       "Dollar class has amount 1600"
      ]
     },
     "execution_count": 7,
     "metadata": {},
     "output_type": "execute_result"
    }
   ],
   "source": [
    "class Dollar:\n",
    "    def __init__(self,amount):\n",
    "        self.amount=amount\n",
    "\n",
    "    def __repr__(self):\n",
    "        return f\"Dollar class has amount {self.amount}\"\n",
    "\n",
    "    @classmethod\n",
    "    def convertAmount(cls,money):\n",
    "        return cls(money*20)\n",
    "\n",
    "d1=Dollar(10)\n",
    "d1.convertAmount(80)\n",
    "        "
   ]
  },
  {
   "cell_type": "code",
   "execution_count": 11,
   "id": "0233bec0-0a3a-43fd-bcf1-b5f28f51687c",
   "metadata": {},
   "outputs": [
    {
     "data": {
      "text/plain": [
       "<bound method Dollar.convertAmount of <class '__main__.Dollar'>>"
      ]
     },
     "execution_count": 11,
     "metadata": {},
     "output_type": "execute_result"
    }
   ],
   "source": [
    "class Dollar:\n",
    "    def __init__(self,amount):\n",
    "        self.amount=amount\n",
    "\n",
    "    def __repr__(self):\n",
    "        return f\"Dollar class has amount {self.amount}\"\n",
    "\n",
    "    @classmethod\n",
    "    def convertAmount(clas,money):\n",
    "        return cls(money*20)\n",
    "\n",
    "d1=Dollar(10)\n",
    "d1.convertAmount"
   ]
  },
  {
   "cell_type": "code",
   "execution_count": 9,
   "id": "b6ae0df6-5e2e-4b01-85c7-582ee6320c91",
   "metadata": {},
   "outputs": [
    {
     "data": {
      "text/plain": [
       "Euro class has 2000"
      ]
     },
     "execution_count": 9,
     "metadata": {},
     "output_type": "execute_result"
    }
   ],
   "source": [
    "class Euro(Dollar):\n",
    "    def __init__(self,amount):\n",
    "        super().__init__(amount)\n",
    "\n",
    "    def __repr__(self):\n",
    "        return f\"Euro class has {self.amount}\"\n",
    "\n",
    "e1=Euro(40)\n",
    "e1.convertAmount(100)"
   ]
  },
  {
   "cell_type": "code",
   "execution_count": null,
   "id": "6ad9d373-bbb0-42a7-ac04-794b7db881fe",
   "metadata": {},
   "outputs": [],
   "source": [
    "# generators vs function\n",
    "# decorators  : kaise "
   ]
  }
 ],
 "metadata": {
  "kernelspec": {
   "display_name": "Python 3 (ipykernel)",
   "language": "python",
   "name": "python3"
  },
  "language_info": {
   "codemirror_mode": {
    "name": "ipython",
    "version": 3
   },
   "file_extension": ".py",
   "mimetype": "text/x-python",
   "name": "python",
   "nbconvert_exporter": "python",
   "pygments_lexer": "ipython3",
   "version": "3.11.7"
  }
 },
 "nbformat": 4,
 "nbformat_minor": 5
}
