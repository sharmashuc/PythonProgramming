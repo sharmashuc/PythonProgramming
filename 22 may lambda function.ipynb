{
 "cells": [
  {
   "cell_type": "code",
   "execution_count": 1,
   "id": "d72d69e2-5c44-4fbe-8d9f-23f6d5a06e86",
   "metadata": {},
   "outputs": [
    {
     "data": {
      "text/plain": [
       "200"
      ]
     },
     "execution_count": 1,
     "metadata": {},
     "output_type": "execute_result"
    }
   ],
   "source": [
    "out= lambda x,y : x*y\n",
    "out(10,20)"
   ]
  },
  {
   "cell_type": "code",
   "execution_count": 4,
   "id": "7852f193-7399-43b9-b7c7-601522628ded",
   "metadata": {},
   "outputs": [
    {
     "name": "stdout",
     "output_type": "stream",
     "text": [
      "2\n",
      "4\n",
      "6\n",
      "8\n",
      "10\n",
      "12\n",
      "14\n",
      "16\n",
      "18\n",
      "20\n",
      "22\n",
      "24\n",
      "26\n",
      "28\n",
      "30\n",
      "32\n",
      "34\n",
      "36\n",
      "38\n"
     ]
    }
   ],
   "source": [
    "for i in range (1,20):\n",
    "    out=lambda x:2*x\n",
    "    print( out(i))\n",
    "    "
   ]
  },
  {
   "cell_type": "code",
   "execution_count": 5,
   "id": "abe5fe22-86ec-47fe-8c25-0d8ecb65198e",
   "metadata": {},
   "outputs": [
    {
     "name": "stdout",
     "output_type": "stream",
     "text": [
      "2\n",
      "4\n",
      "6\n",
      "8\n",
      "10\n",
      "12\n",
      "14\n",
      "16\n",
      "18\n"
     ]
    }
   ],
   "source": [
    "for i in range (1,10):\n",
    "    out=lambda x:2*x\n",
    "    print( out(i))\n",
    "    "
   ]
  },
  {
   "cell_type": "code",
   "execution_count": 6,
   "id": "24094411-3b78-4143-9e04-41678e46aba7",
   "metadata": {},
   "outputs": [
    {
     "name": "stdout",
     "output_type": "stream",
     "text": [
      "10\n"
     ]
    }
   ],
   "source": [
    "def square(x):\n",
    "    print(x)\n",
    "square(10)    "
   ]
  },
  {
   "cell_type": "code",
   "execution_count": 7,
   "id": "7c2c3845-3844-47cf-babb-22dc674e867e",
   "metadata": {},
   "outputs": [
    {
     "data": {
      "text/plain": [
       "[5, 3]"
      ]
     },
     "execution_count": 7,
     "metadata": {},
     "output_type": "execute_result"
    }
   ],
   "source": [
    "mylist=[\"hello\",\"hey\"]\n",
    "list(map(len,mylist))"
   ]
  },
  {
   "cell_type": "code",
   "execution_count": 12,
   "id": "bad4f245-7d4c-4b1e-b6b8-f57fb6ba3c0c",
   "metadata": {},
   "outputs": [
    {
     "name": "stdout",
     "output_type": "stream",
     "text": [
      "10\n",
      "out: hello\n"
     ]
    }
   ],
   "source": [
    "def square (x):\n",
    "    print(x)\n",
    "    return \"hello\"\n",
    "out = square(10)\n",
    "print(\"out:\",out)"
   ]
  },
  {
   "cell_type": "code",
   "execution_count": 17,
   "id": "db751009-6c8b-4c88-8f3c-94a86502d88c",
   "metadata": {},
   "outputs": [
    {
     "data": {
      "text/plain": [
       "[100, 400, 900, 1600]"
      ]
     },
     "execution_count": 17,
     "metadata": {},
     "output_type": "execute_result"
    }
   ],
   "source": [
    "def func(x):\n",
    "    return x**2\n",
    "list(map(func,[10,20,30,40]) )    "
   ]
  },
  {
   "cell_type": "code",
   "execution_count": 18,
   "id": "ce13878b-6696-4adb-ab97-cd2cab787109",
   "metadata": {},
   "outputs": [
    {
     "data": {
      "text/plain": [
       "[100, 400, 900, 1600]"
      ]
     },
     "execution_count": 18,
     "metadata": {},
     "output_type": "execute_result"
    }
   ],
   "source": [
    "list(map (lambda x: x**2, [10,20,30,40]))\n"
   ]
  },
  {
   "cell_type": "code",
   "execution_count": null,
   "id": "1d33aff2-5025-4f06-8cab-fd6812a053b8",
   "metadata": {},
   "outputs": [],
   "source": []
  }
 ],
 "metadata": {
  "kernelspec": {
   "display_name": "Python 3 (ipykernel)",
   "language": "python",
   "name": "python3"
  },
  "language_info": {
   "codemirror_mode": {
    "name": "ipython",
    "version": 3
   },
   "file_extension": ".py",
   "mimetype": "text/x-python",
   "name": "python",
   "nbconvert_exporter": "python",
   "pygments_lexer": "ipython3",
   "version": "3.11.7"
  }
 },
 "nbformat": 4,
 "nbformat_minor": 5
}
