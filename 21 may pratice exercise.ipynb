{
 "cells": [
  {
   "cell_type": "code",
   "execution_count": 5,
   "id": "abc46dea-fc22-4fbf-a648-4bfda48b15c4",
   "metadata": {},
   "outputs": [
    {
     "name": "stdout",
     "output_type": "stream",
     "text": [
      "Area of square: 16\n",
      "Area of rectangle: 20\n"
     ]
    }
   ],
   "source": [
    "def calculate_area(length, width):\n",
    "    square_area = length ** 2\n",
    "    print(\"Area of square:\", square_area)\n",
    "    rectangle_area = length * width\n",
    "    print(\"Area of rectangle:\", rectangle_area)\n",
    "calculate_area(4, 5)  \n",
    "\n"
   ]
  },
  {
   "cell_type": "code",
   "execution_count": 6,
   "id": "a225c191-a615-4c38-b1ec-3a83d1d884ed",
   "metadata": {},
   "outputs": [
    {
     "name": "stdout",
     "output_type": "stream",
     "text": [
      "Multiplication Table for 5:\n",
      "5 x 1 = 5\n",
      "5 x 2 = 10\n",
      "5 x 3 = 15\n",
      "5 x 4 = 20\n",
      "5 x 5 = 25\n",
      "5 x 6 = 30\n",
      "5 x 7 = 35\n",
      "5 x 8 = 40\n",
      "5 x 9 = 45\n",
      "5 x 10 = 50\n"
     ]
    }
   ],
   "source": [
    "def print_multiplication_table(number):\n",
    "    print(f\"Multiplication Table for {number}:\")\n",
    "    for i in range(1, 11):\n",
    "        print(f\"{number} x {i} = {number * i}\")\n",
    "print_multiplication_table(5)        "
   ]
  },
  {
   "cell_type": "code",
   "execution_count": 21,
   "id": "9cf78486-805a-4483-a4a8-f3a4bc87402b",
   "metadata": {},
   "outputs": [
    {
     "name": "stdin",
     "output_type": "stream",
     "text": [
      "Enter a string:  12321\n"
     ]
    },
    {
     "name": "stdout",
     "output_type": "stream",
     "text": [
      "Yes, it's a palindrome!\n"
     ]
    }
   ],
   "source": [
    "def is_palindrome(s):\n",
    "    s = s.replace(\" \", \"\").lower()\n",
    "    return s == s[::-1]\n",
    "user_input = input(\"Enter a string: \")\n",
    "if is_palindrome(user_input):\n",
    "    print(\"Yes, it's a palindrome!\")\n",
    "else:\n",
    "    print(\"No, it's not a palindrome.\")\n",
    "\n"
   ]
  },
  {
   "cell_type": "code",
   "execution_count": null,
   "id": "4edc6cf0-5f88-46dd-8fcd-48547e389263",
   "metadata": {},
   "outputs": [],
   "source": []
  }
 ],
 "metadata": {
  "kernelspec": {
   "display_name": "Python 3 (ipykernel)",
   "language": "python",
   "name": "python3"
  },
  "language_info": {
   "codemirror_mode": {
    "name": "ipython",
    "version": 3
   },
   "file_extension": ".py",
   "mimetype": "text/x-python",
   "name": "python",
   "nbconvert_exporter": "python",
   "pygments_lexer": "ipython3",
   "version": "3.11.7"
  }
 },
 "nbformat": 4,
 "nbformat_minor": 5
}
